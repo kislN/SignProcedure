{
 "cells": [
  {
   "cell_type": "code",
   "execution_count": 1,
   "metadata": {},
   "outputs": [],
   "source": [
    "import numpy as np \n",
    "import networkx as nx\n",
    "import pandas as pd\n",
    "import json\n",
    "from pprint import pprint\n",
    "pd.core.common.is_list_like = pd.api.types.is_list_like \n",
    "\n",
    "from tools.comparisons import *\n",
    "from tools.data_transform import *\n",
    "from hypotheses.sign_statistics import *\n",
    "from hypotheses.sign_tests import *\n",
    "from distributions.multivariate_normal import norm_seq\n",
    "from distributions.multivariate_t import student_seq\n",
    "\n"
   ]
  },
  {
   "cell_type": "code",
   "execution_count": 2,
   "metadata": {},
   "outputs": [],
   "source": [
    "def total_compare(ref_MST, ref_corr, stocks, title):\n",
    "    print('normal')\n",
    "    normal = compare_norm(ref_MST, ref_corr, stocks, observ_num=[20, 100, 250], iters=1000, alphas=[0.1])\n",
    "    with open(f\"data/{title}_normal.json\", \"w\") as write_file:\n",
    "        json.dump(normal, write_file)\n",
    "        \n",
    "    print('student')\n",
    "    student = compare_stud(ref_MST, ref_corr, stocks, observ_num=[20, 100, 250], iters=1000, alphas=[0.1], dofs=[2, 3])\n",
    "    with open(f\"data/{title}_student.json\", \"w\") as write_file:\n",
    "        json.dump(student, write_file)\n",
    "        \n",
    "    print('mix')\n",
    "    mix = compare_mix(ref_MST, ref_corr, stocks, observ_num=[20, 100, 250], iters=1000, alphas=[0.1], dofs=[2, 3], norm_rates=[0.5, 0.3])\n",
    "    with open(f\"data/{title}_mix.json\", \"w\") as write_file:\n",
    "        json.dump(mix, write_file)\n"
   ]
  },
  {
   "cell_type": "code",
   "execution_count": 3,
   "metadata": {},
   "outputs": [
    {
     "data": {
      "text/plain": [
       "array([[ 1.        ,  0.53299588,  0.07392129,  0.05234684,  0.01072797,\n",
       "         0.01535395],\n",
       "       [ 0.53299588,  1.        ,  0.51151134,  0.02468803,  0.04601912,\n",
       "        -0.0130823 ],\n",
       "       [ 0.07392129,  0.51151134,  1.        ,  0.52009087,  0.07893666,\n",
       "        -0.02103905],\n",
       "       [ 0.05234684,  0.02468803,  0.52009087,  1.        ,  0.49324767,\n",
       "        -0.06364704],\n",
       "       [ 0.01072797,  0.04601912,  0.07893666,  0.49324767,  1.        ,\n",
       "         0.47505796],\n",
       "       [ 0.01535395, -0.0130823 , -0.02103905, -0.06364704,  0.47505796,\n",
       "         1.        ]])"
      ]
     },
     "execution_count": 3,
     "metadata": {},
     "output_type": "execute_result"
    }
   ],
   "source": [
    "stcks = ['a', 'b', 'c', 'd', 'e', 'f']\n",
    "corr = [[1, 0.5, 0, 0, 0, 0],\\\n",
    "        [0.5, 1, 0.5, 0, 0, 0],\\\n",
    "        [0, 0.5, 1, 0.5, 0, 0],\\\n",
    "        [0, 0, 0.5, 1, 0.5, 0],\\\n",
    "        [0, 0, 0, 0.5, 1, 0.5],\\\n",
    "        [0, 0, 0, 0, 0.5, 1]]\n",
    "\n",
    "corr = np.corrcoef(norm_seq(corr, 1000))\n",
    "corr"
   ]
  },
  {
   "cell_type": "code",
   "execution_count": 4,
   "metadata": {},
   "outputs": [
    {
     "name": "stdout",
     "output_type": "stream",
     "text": [
      "True\n"
     ]
    },
    {
     "data": {
      "image/png": "[encoded data removed]",
      "text/plain": [
       "<Figure size 432x288 with 1 Axes>"
      ]
     },
     "metadata": {},
     "output_type": "display_data"
    }
   ],
   "source": [
    "ref_MST1 = create_Kruskal_MST(corr, stcks)\n",
    "\n",
    "ref_MST2 = create_Prim_MST(corr, stcks)\n",
    "\n",
    "print(sorted(ref_MST1.degree) == sorted(ref_MST2.degree))\n",
    "nx.draw(ref_MST2, with_labels=True, node_color='lightgreen')\n",
    "\n"
   ]
  },
  {
   "cell_type": "code",
   "execution_count": 5,
   "metadata": {
    "scrolled": true
   },
   "outputs": [
    {
     "name": "stderr",
     "output_type": "stream",
     "text": [
      " 23%|██▎       | 230/1000 [00:00<00:00, 2298.25it/s]"
     ]
    },
    {
     "name": "stdout",
     "output_type": "stream",
     "text": [
      "mix\n"
     ]
    },
    {
     "name": "stderr",
     "output_type": "stream",
     "text": [
      "100%|██████████| 1000/1000 [00:00<00:00, 2393.52it/s]\n",
      "100%|██████████| 1000/1000 [00:00<00:00, 1840.74it/s]\n",
      "100%|██████████| 1000/1000 [00:11<00:00, 83.61it/s]\n",
      "100%|██████████| 1000/1000 [00:11<00:00, 90.87it/s]\n",
      "100%|██████████| 1000/1000 [00:11<00:00, 84.79it/s]\n",
      "100%|██████████| 1000/1000 [00:21<00:00, 45.86it/s]\n",
      "100%|██████████| 1000/1000 [00:21<00:00, 45.91it/s]\n",
      "100%|██████████| 1000/1000 [00:00<00:00, 2495.94it/s]\n",
      "100%|██████████| 1000/1000 [00:00<00:00, 1839.18it/s]\n",
      "100%|██████████| 1000/1000 [00:11<00:00, 84.60it/s]\n",
      "100%|██████████| 1000/1000 [00:11<00:00, 90.82it/s]\n",
      "100%|██████████| 1000/1000 [00:11<00:00, 85.65it/s]\n",
      "100%|██████████| 1000/1000 [00:21<00:00, 46.00it/s]\n",
      "100%|██████████| 1000/1000 [00:21<00:00, 45.80it/s]\n",
      "100%|██████████| 1000/1000 [00:00<00:00, 2432.62it/s]\n",
      "100%|██████████| 1000/1000 [00:00<00:00, 1842.42it/s]\n",
      "100%|██████████| 1000/1000 [00:11<00:00, 83.60it/s]\n",
      "100%|██████████| 1000/1000 [00:11<00:00, 90.29it/s]\n",
      "100%|██████████| 1000/1000 [00:11<00:00, 84.55it/s]\n",
      "100%|██████████| 1000/1000 [00:21<00:00, 45.82it/s]\n",
      "100%|██████████| 1000/1000 [00:21<00:00, 46.13it/s]\n",
      "100%|██████████| 1000/1000 [00:00<00:00, 2473.09it/s]\n",
      "100%|██████████| 1000/1000 [00:00<00:00, 1836.44it/s]\n",
      "100%|██████████| 1000/1000 [00:11<00:00, 84.13it/s]\n",
      "100%|██████████| 1000/1000 [00:11<00:00, 90.25it/s]\n",
      "100%|██████████| 1000/1000 [00:11<00:00, 84.31it/s]\n",
      "100%|██████████| 1000/1000 [00:21<00:00, 45.64it/s]\n",
      "100%|██████████| 1000/1000 [00:21<00:00, 45.59it/s]\n",
      "100%|██████████| 1000/1000 [00:00<00:00, 2295.59it/s]\n",
      "100%|██████████| 1000/1000 [00:01<00:00, 654.39it/s]\n",
      "100%|██████████| 1000/1000 [02:09<00:00,  7.70it/s]\n",
      "100%|██████████| 1000/1000 [02:08<00:00,  7.78it/s]\n",
      "100%|██████████| 1000/1000 [02:09<00:00,  7.71it/s]\n",
      "100%|██████████| 1000/1000 [04:15<00:00,  3.92it/s]\n",
      "100%|██████████| 1000/1000 [04:14<00:00,  3.92it/s]\n",
      "100%|██████████| 1000/1000 [00:00<00:00, 2430.48it/s]\n",
      "100%|██████████| 1000/1000 [00:01<00:00, 687.16it/s]\n",
      "100%|██████████| 1000/1000 [02:11<00:00,  7.63it/s]\n",
      "100%|██████████| 1000/1000 [02:11<00:00,  7.63it/s]\n",
      "100%|██████████| 1000/1000 [02:11<00:00,  7.61it/s]\n",
      "100%|██████████| 1000/1000 [04:13<00:00,  3.94it/s]\n",
      "100%|██████████| 1000/1000 [04:13<00:00,  3.95it/s]\n",
      "100%|██████████| 1000/1000 [00:00<00:00, 2401.91it/s]\n",
      "100%|██████████| 1000/1000 [00:01<00:00, 680.40it/s]\n",
      "100%|██████████| 1000/1000 [02:10<00:00,  7.64it/s]\n",
      "100%|██████████| 1000/1000 [02:09<00:00,  7.73it/s]\n",
      "100%|██████████| 1000/1000 [02:10<00:00,  7.64it/s]\n",
      "100%|██████████| 1000/1000 [04:13<00:00,  3.95it/s]\n",
      "100%|██████████| 1000/1000 [04:13<00:00,  3.95it/s]\n",
      "100%|██████████| 1000/1000 [00:00<00:00, 2433.91it/s]\n",
      "100%|██████████| 1000/1000 [00:01<00:00, 675.96it/s]\n",
      "100%|██████████| 1000/1000 [02:12<00:00,  7.57it/s]\n",
      "100%|██████████| 1000/1000 [02:09<00:00,  7.70it/s]\n",
      "100%|██████████| 1000/1000 [02:11<00:00,  7.60it/s]\n",
      "100%|██████████| 1000/1000 [04:12<00:00,  3.96it/s]\n",
      "100%|██████████| 1000/1000 [04:15<00:00,  3.91it/s]\n",
      "100%|██████████| 1000/1000 [00:00<00:00, 2205.76it/s]\n",
      "100%|██████████| 1000/1000 [00:03<00:00, 315.72it/s]\n",
      "100%|██████████| 1000/1000 [10:15<00:00,  1.62it/s]\n",
      "100%|██████████| 1000/1000 [10:13<00:00,  1.63it/s]\n",
      "100%|██████████| 1000/1000 [10:17<00:00,  1.62it/s]\n",
      "100%|██████████| 1000/1000 [21:41<00:00,  1.30s/it]\n",
      "100%|██████████| 1000/1000 [21:47<00:00,  1.31s/it]\n",
      "100%|██████████| 1000/1000 [00:00<00:00, 2169.85it/s]\n",
      "100%|██████████| 1000/1000 [00:03<00:00, 312.18it/s]\n",
      "100%|██████████| 1000/1000 [10:14<00:00,  1.63it/s]\n",
      "100%|██████████| 1000/1000 [10:11<00:00,  1.63it/s]\n",
      "100%|██████████| 1000/1000 [10:16<00:00,  1.62it/s]\n",
      "100%|██████████| 1000/1000 [21:35<00:00,  1.30s/it]\n",
      "100%|██████████| 1000/1000 [21:42<00:00,  1.30s/it]\n",
      "100%|██████████| 1000/1000 [00:00<00:00, 2217.21it/s]\n",
      "100%|██████████| 1000/1000 [00:03<00:00, 314.58it/s]\n",
      "100%|██████████| 1000/1000 [10:18<00:00,  1.62it/s]\n",
      "100%|██████████| 1000/1000 [10:14<00:00,  1.63it/s]\n",
      "100%|██████████| 1000/1000 [10:17<00:00,  1.62it/s]\n",
      "100%|██████████| 1000/1000 [21:37<00:00,  1.30s/it]\n",
      "100%|██████████| 1000/1000 [21:47<00:00,  1.31s/it]\n",
      "100%|██████████| 1000/1000 [00:00<00:00, 2243.75it/s]\n",
      "100%|██████████| 1000/1000 [00:03<00:00, 309.59it/s]\n",
      "100%|██████████| 1000/1000 [10:17<00:00,  1.62it/s]\n",
      "100%|██████████| 1000/1000 [10:13<00:00,  1.63it/s]\n",
      "100%|██████████| 1000/1000 [10:13<00:00,  1.63it/s]\n",
      "100%|██████████| 1000/1000 [21:36<00:00,  1.30s/it]\n",
      "100%|██████████| 1000/1000 [21:39<00:00,  1.30s/it]\n"
     ]
    }
   ],
   "source": [
    "# total_compare(ref_MST1, corr, stcks, 'path')"
   ]
  },
  {
   "cell_type": "code",
   "execution_count": null,
   "metadata": {},
   "outputs": [],
   "source": []
  },
  {
   "cell_type": "code",
   "execution_count": 3,
   "metadata": {},
   "outputs": [
    {
     "data": {
      "text/plain": [
       "array([[ 1.        ,  0.42864519,  0.37676899,  0.40684477,  0.42985148,\n",
       "         0.42279331],\n",
       "       [ 0.42864519,  1.        ,  0.0045069 , -0.04180915,  0.02261963,\n",
       "         0.00793239],\n",
       "       [ 0.37676899,  0.0045069 ,  1.        ,  0.02619799,  0.04502702,\n",
       "        -0.0087133 ],\n",
       "       [ 0.40684477, -0.04180915,  0.02619799,  1.        ,  0.03172089,\n",
       "         0.01267891],\n",
       "       [ 0.42985148,  0.02261963,  0.04502702,  0.03172089,  1.        ,\n",
       "         0.02462084],\n",
       "       [ 0.42279331,  0.00793239, -0.0087133 ,  0.01267891,  0.02462084,\n",
       "         1.        ]])"
      ]
     },
     "execution_count": 3,
     "metadata": {},
     "output_type": "execute_result"
    }
   ],
   "source": [
    "stcks = ['a', 'b', 'c', 'd', 'e', 'f']\n",
    "corr = [[1, 0.4, 0.4, 0.4, 0.4, 0.4],\\\n",
    "        [0.4, 1, 0, 0, 0, 0],\\\n",
    "        [0.4, 0, 1, 0, 0, 0],\\\n",
    "        [0.4, 0, 0, 1, 0, 0],\\\n",
    "        [0.4, 0, 0, 0, 1, 0],\\\n",
    "        [0.4, 0, 0, 0, 0, 1]]\n",
    "\n",
    "corr = np.corrcoef(norm_seq(corr, 1000))\n",
    "corr"
   ]
  },
  {
   "cell_type": "code",
   "execution_count": 4,
   "metadata": {},
   "outputs": [
    {
     "name": "stdout",
     "output_type": "stream",
     "text": [
      "True\n"
     ]
    },
    {
     "data": {
      "image/png": "[encoded data removed]",
      "text/plain": [
       "<Figure size 432x288 with 1 Axes>"
      ]
     },
     "metadata": {},
     "output_type": "display_data"
    }
   ],
   "source": [
    "ref_MST1 = create_Kruskal_MST(corr, stcks)\n",
    "\n",
    "ref_MST2 = create_Prim_MST(corr, stcks)\n",
    "\n",
    "print(sorted(ref_MST1.degree) == sorted(ref_MST2.degree))\n",
    "nx.draw(ref_MST2, with_labels=True, node_color='lightgreen')"
   ]
  },
  {
   "cell_type": "code",
   "execution_count": 5,
   "metadata": {},
   "outputs": [
    {
     "name": "stderr",
     "output_type": "stream",
     "text": [
      " 22%|██▏       | 221/1000 [00:00<00:00, 2207.75it/s]"
     ]
    },
    {
     "name": "stdout",
     "output_type": "stream",
     "text": [
      "normal\n"
     ]
    },
    {
     "name": "stderr",
     "output_type": "stream",
     "text": [
      "100%|██████████| 1000/1000 [00:00<00:00, 2556.55it/s]\n",
      "100%|██████████| 1000/1000 [00:00<00:00, 1871.39it/s]\n",
      "100%|██████████| 1000/1000 [00:13<00:00, 76.78it/s]\n",
      "100%|██████████| 1000/1000 [00:12<00:00, 81.45it/s]\n",
      "100%|██████████| 1000/1000 [00:12<00:00, 77.69it/s]\n",
      "100%|██████████| 1000/1000 [00:24<00:00, 40.72it/s]\n",
      "100%|██████████| 1000/1000 [00:24<00:00, 40.82it/s]\n",
      "100%|██████████| 1000/1000 [00:00<00:00, 2859.54it/s]\n",
      "100%|██████████| 1000/1000 [00:01<00:00, 709.35it/s]\n",
      "100%|██████████| 1000/1000 [02:17<00:00,  7.27it/s]\n",
      "100%|██████████| 1000/1000 [02:12<00:00,  7.52it/s]\n",
      "100%|██████████| 1000/1000 [02:18<00:00,  7.21it/s]\n",
      "100%|██████████| 1000/1000 [05:05<00:00,  3.28it/s]\n",
      "100%|██████████| 1000/1000 [05:12<00:00,  3.20it/s]\n",
      "100%|██████████| 1000/1000 [00:00<00:00, 2359.68it/s]\n",
      "100%|██████████| 1000/1000 [00:03<00:00, 307.15it/s]\n",
      "100%|██████████| 1000/1000 [11:36<00:00,  1.43it/s]\n",
      "100%|██████████| 1000/1000 [11:19<00:00,  1.47it/s]\n",
      "100%|██████████| 1000/1000 [11:31<00:00,  1.45it/s]\n",
      "100%|██████████| 1000/1000 [26:12<00:00,  1.57s/it]\n",
      "100%|██████████| 1000/1000 [26:51<00:00,  1.61s/it]\n",
      " 51%|█████     | 512/1000 [00:00<00:00, 2538.76it/s]"
     ]
    },
    {
     "name": "stdout",
     "output_type": "stream",
     "text": [
      "student\n"
     ]
    },
    {
     "name": "stderr",
     "output_type": "stream",
     "text": [
      "100%|██████████| 1000/1000 [00:00<00:00, 2563.37it/s]\n",
      "100%|██████████| 1000/1000 [00:00<00:00, 1935.13it/s]\n",
      "100%|██████████| 1000/1000 [00:12<00:00, 78.69it/s]\n",
      "100%|██████████| 1000/1000 [00:12<00:00, 82.13it/s]\n",
      "100%|██████████| 1000/1000 [00:12<00:00, 77.78it/s]\n",
      "100%|██████████| 1000/1000 [00:24<00:00, 40.73it/s]\n",
      "100%|██████████| 1000/1000 [00:25<00:00, 39.90it/s]\n",
      "100%|██████████| 1000/1000 [00:00<00:00, 2614.87it/s]\n",
      "100%|██████████| 1000/1000 [00:00<00:00, 1932.60it/s]\n",
      "100%|██████████| 1000/1000 [00:12<00:00, 78.52it/s]\n",
      "100%|██████████| 1000/1000 [00:12<00:00, 82.78it/s]\n",
      "100%|██████████| 1000/1000 [00:12<00:00, 78.12it/s]\n",
      "100%|██████████| 1000/1000 [00:25<00:00, 39.90it/s]\n",
      "100%|██████████| 1000/1000 [00:24<00:00, 40.17it/s]\n",
      "100%|██████████| 1000/1000 [00:00<00:00, 2464.07it/s]\n",
      "100%|██████████| 1000/1000 [00:01<00:00, 698.74it/s]\n",
      "100%|██████████| 1000/1000 [02:21<00:00,  7.08it/s]\n",
      "100%|██████████| 1000/1000 [02:15<00:00,  7.40it/s]\n",
      "100%|██████████| 1000/1000 [02:20<00:00,  7.10it/s]\n",
      "100%|██████████| 1000/1000 [05:02<00:00,  3.31it/s]\n",
      "100%|██████████| 1000/1000 [05:07<00:00,  3.25it/s]\n",
      "100%|██████████| 1000/1000 [00:00<00:00, 2559.54it/s]\n",
      "100%|██████████| 1000/1000 [00:01<00:00, 701.01it/s]\n",
      "100%|██████████| 1000/1000 [02:21<00:00,  7.08it/s]\n",
      "100%|██████████| 1000/1000 [02:14<00:00,  7.44it/s]\n",
      "100%|██████████| 1000/1000 [02:19<00:00,  7.16it/s]\n",
      "100%|██████████| 1000/1000 [05:02<00:00,  3.31it/s]\n",
      "100%|██████████| 1000/1000 [05:09<00:00,  3.23it/s]\n",
      "100%|██████████| 1000/1000 [00:00<00:00, 2281.28it/s]\n",
      "100%|██████████| 1000/1000 [00:03<00:00, 321.09it/s]\n",
      "100%|██████████| 1000/1000 [11:13<00:00,  1.49it/s]\n",
      "100%|██████████| 1000/1000 [10:54<00:00,  1.53it/s]\n",
      "100%|██████████| 1000/1000 [11:14<00:00,  1.48it/s]\n",
      "100%|██████████| 1000/1000 [26:13<00:00,  1.57s/it]\n",
      "100%|██████████| 1000/1000 [26:52<00:00,  1.61s/it]\n",
      "100%|██████████| 1000/1000 [00:00<00:00, 2341.20it/s]\n",
      "100%|██████████| 1000/1000 [00:03<00:00, 319.16it/s]\n",
      "100%|██████████| 1000/1000 [11:17<00:00,  1.48it/s]\n",
      "100%|██████████| 1000/1000 [11:06<00:00,  1.50it/s]\n",
      "100%|██████████| 1000/1000 [11:20<00:00,  1.47it/s]\n",
      "100%|██████████| 1000/1000 [26:14<00:00,  1.57s/it]\n",
      "100%|██████████| 1000/1000 [27:02<00:00,  1.62s/it]\n",
      " 25%|██▍       | 249/1000 [00:00<00:00, 2481.95it/s]"
     ]
    },
    {
     "name": "stdout",
     "output_type": "stream",
     "text": [
      "mix\n"
     ]
    },
    {
     "name": "stderr",
     "output_type": "stream",
     "text": [
      "100%|██████████| 1000/1000 [00:00<00:00, 2523.05it/s]\n",
      "100%|██████████| 1000/1000 [00:00<00:00, 1950.98it/s]\n",
      "100%|██████████| 1000/1000 [00:12<00:00, 77.11it/s]\n",
      "100%|██████████| 1000/1000 [00:12<00:00, 82.10it/s]\n",
      "100%|██████████| 1000/1000 [00:12<00:00, 77.82it/s]\n",
      "100%|██████████| 1000/1000 [00:24<00:00, 40.06it/s]\n",
      "100%|██████████| 1000/1000 [00:24<00:00, 40.15it/s]\n",
      "100%|██████████| 1000/1000 [00:00<00:00, 2617.02it/s]\n",
      "100%|██████████| 1000/1000 [00:00<00:00, 1940.52it/s]\n",
      "100%|██████████| 1000/1000 [00:12<00:00, 77.89it/s]\n",
      "100%|██████████| 1000/1000 [00:12<00:00, 82.99it/s]\n",
      "100%|██████████| 1000/1000 [00:12<00:00, 77.32it/s]\n",
      "100%|██████████| 1000/1000 [00:24<00:00, 40.22it/s]\n",
      "100%|██████████| 1000/1000 [00:24<00:00, 40.11it/s]\n",
      "100%|██████████| 1000/1000 [00:00<00:00, 2591.26it/s]\n",
      "100%|██████████| 1000/1000 [00:00<00:00, 1936.14it/s]\n",
      "100%|██████████| 1000/1000 [00:12<00:00, 78.81it/s]\n",
      "100%|██████████| 1000/1000 [00:12<00:00, 83.11it/s]\n",
      "100%|██████████| 1000/1000 [00:12<00:00, 78.72it/s]\n",
      "100%|██████████| 1000/1000 [00:24<00:00, 40.48it/s]\n",
      "100%|██████████| 1000/1000 [00:24<00:00, 40.74it/s]\n",
      "100%|██████████| 1000/1000 [00:00<00:00, 2619.65it/s]\n",
      "100%|██████████| 1000/1000 [00:00<00:00, 1958.22it/s]\n",
      "100%|██████████| 1000/1000 [00:12<00:00, 78.56it/s]\n",
      "100%|██████████| 1000/1000 [00:12<00:00, 83.18it/s]\n",
      "100%|██████████| 1000/1000 [00:12<00:00, 78.19it/s]\n",
      "100%|██████████| 1000/1000 [00:24<00:00, 40.40it/s]\n",
      "100%|██████████| 1000/1000 [00:24<00:00, 40.34it/s]\n",
      "100%|██████████| 1000/1000 [00:00<00:00, 2471.57it/s]\n",
      "100%|██████████| 1000/1000 [00:01<00:00, 713.36it/s]\n",
      "100%|██████████| 1000/1000 [02:21<00:00,  7.09it/s]\n",
      "100%|██████████| 1000/1000 [02:16<00:00,  7.31it/s]\n",
      "100%|██████████| 1000/1000 [02:20<00:00,  7.11it/s]\n",
      "100%|██████████| 1000/1000 [05:05<00:00,  3.28it/s]\n",
      "100%|██████████| 1000/1000 [05:11<00:00,  3.21it/s]\n",
      "100%|██████████| 1000/1000 [00:00<00:00, 2589.39it/s]\n",
      "100%|██████████| 1000/1000 [00:01<00:00, 707.79it/s]\n",
      "100%|██████████| 1000/1000 [02:19<00:00,  7.17it/s]\n",
      "100%|██████████| 1000/1000 [02:15<00:00,  7.38it/s]\n",
      "100%|██████████| 1000/1000 [02:20<00:00,  7.10it/s]\n",
      "100%|██████████| 1000/1000 [05:03<00:00,  3.29it/s]\n",
      "100%|██████████| 1000/1000 [05:07<00:00,  3.25it/s]\n",
      "100%|██████████| 1000/1000 [00:00<00:00, 2529.56it/s]\n",
      "100%|██████████| 1000/1000 [00:01<00:00, 714.77it/s]\n",
      "100%|██████████| 1000/1000 [02:21<00:00,  7.07it/s]\n",
      "100%|██████████| 1000/1000 [02:16<00:00,  7.31it/s]\n",
      "100%|██████████| 1000/1000 [02:20<00:00,  7.09it/s]\n",
      "100%|██████████| 1000/1000 [05:02<00:00,  3.30it/s]\n",
      "100%|██████████| 1000/1000 [05:09<00:00,  3.23it/s]\n",
      "100%|██████████| 1000/1000 [00:00<00:00, 2611.03it/s]\n",
      "100%|██████████| 1000/1000 [00:01<00:00, 711.72it/s]\n",
      "100%|██████████| 1000/1000 [02:19<00:00,  7.15it/s]\n",
      "100%|██████████| 1000/1000 [02:16<00:00,  7.35it/s]\n",
      "100%|██████████| 1000/1000 [02:19<00:00,  7.15it/s]\n",
      "100%|██████████| 1000/1000 [05:02<00:00,  3.30it/s]\n",
      "100%|██████████| 1000/1000 [05:08<00:00,  3.25it/s]\n",
      "100%|██████████| 1000/1000 [00:00<00:00, 2331.02it/s]\n",
      "100%|██████████| 1000/1000 [00:03<00:00, 321.49it/s]\n",
      "100%|██████████| 1000/1000 [11:24<00:00,  1.46it/s]\n",
      "100%|██████████| 1000/1000 [11:02<00:00,  1.51it/s]\n",
      "100%|██████████| 1000/1000 [11:20<00:00,  1.47it/s]\n",
      "100%|██████████| 1000/1000 [26:07<00:00,  1.57s/it]\n",
      "100%|██████████| 1000/1000 [27:01<00:00,  1.62s/it]\n",
      "100%|██████████| 1000/1000 [00:00<00:00, 2394.08it/s]\n",
      "100%|██████████| 1000/1000 [00:03<00:00, 325.47it/s]\n",
      "100%|██████████| 1000/1000 [11:14<00:00,  1.48it/s]\n",
      "100%|██████████| 1000/1000 [11:03<00:00,  1.51it/s]\n",
      "100%|██████████| 1000/1000 [11:21<00:00,  1.47it/s]\n",
      "100%|██████████| 1000/1000 [26:20<00:00,  1.58s/it]\n",
      "100%|██████████| 1000/1000 [26:57<00:00,  1.62s/it]\n",
      "100%|██████████| 1000/1000 [00:00<00:00, 2309.79it/s]\n",
      "100%|██████████| 1000/1000 [00:03<00:00, 327.78it/s]\n",
      "100%|██████████| 1000/1000 [11:33<00:00,  1.44it/s]\n",
      "100%|██████████| 1000/1000 [11:30<00:00,  1.45it/s]\n",
      "100%|██████████| 1000/1000 [11:39<00:00,  1.43it/s]\n",
      "100%|██████████| 1000/1000 [27:01<00:00,  1.62s/it]\n",
      "100%|██████████| 1000/1000 [27:05<00:00,  1.63s/it]\n",
      "100%|██████████| 1000/1000 [00:00<00:00, 2387.31it/s]\n",
      "100%|██████████| 1000/1000 [00:03<00:00, 322.90it/s]\n",
      "100%|██████████| 1000/1000 [11:42<00:00,  1.42it/s]\n",
      "100%|██████████| 1000/1000 [11:35<00:00,  1.44it/s]\n",
      "100%|██████████| 1000/1000 [11:39<00:00,  1.43it/s]\n",
      "100%|██████████| 1000/1000 [27:01<00:00,  1.62s/it]\n",
      "100%|██████████| 1000/1000 [27:51<00:00,  1.67s/it]\n"
     ]
    }
   ],
   "source": [
    "total_compare(ref_MST1, corr, stcks, 'star')"
   ]
  },
  {
   "cell_type": "code",
   "execution_count": null,
   "metadata": {},
   "outputs": [],
   "source": []
  },
  {
   "cell_type": "code",
   "execution_count": 6,
   "metadata": {},
   "outputs": [
    {
     "name": "stdout",
     "output_type": "stream",
     "text": [
      "True\n"
     ]
    },
    {
     "data": {
      "image/png": "[encoded data removed]",
      "text/plain": [
       "<Figure size 432x288 with 1 Axes>"
      ]
     },
     "metadata": {},
     "output_type": "display_data"
    }
   ],
   "source": [
    "corr = [[1.0000, 0.7220, 0.4681, 0.4809, 0.6209, 0.5380, 0.6252, 0.6285, 0.7786, 0.7909], \\\n",
    "        [0.7220, 1.0000, 0.4395, 0.5979, 0.6381, 0.5725, 0.6666, 0.6266, 0.8583, 0.8640], \\\n",
    "        [0.4681, 0.4395, 1.0000, 0.3432, 0.3468, 0.2740, 0.4090, 0.4016, 0.4615, 0.4832], \\\n",
    "        [0.4809, 0.5979, 0.3432, 1.0000, 0.4518, 0.4460, 0.4635, 0.4940, 0.6447, 0.6601], \\\n",
    "        [0.6209, 0.6381, 0.3468, 0.4518, 1.0000, 0.5640, 0.5994, 0.5369, 0.7170, 0.7136], \\\n",
    "        [0.5380, 0.5725, 0.2740, 0.4460, 0.5640, 1.0000, 0.4969, 0.4775, 0.6439, 0.6242], \\\n",
    "        [0.6252, 0.6666, 0.4090, 0.4635, 0.5994, 0.4969, 1.0000, 0.6098, 0.7161, 0.7158], \\\n",
    "        [0.6285, 0.6266, 0.4016, 0.4940, 0.5369, 0.4775, 0.6098, 1.0000, 0.6805, 0.6748], \\\n",
    "        [0.7786, 0.8583, 0.4615, 0.6447, 0.7170, 0.6439, 0.7161, 0.6805, 1.0000, 0.9523], \\\n",
    "        [0.7909, 0.8640, 0.4832, 0.6601, 0.7136, 0.6242, 0.7158, 0.6748, 0.9523, 1.0000]]\n",
    "\n",
    "stcks = ['A', 'AA', 'AAP', 'AAPL', 'AAWW', 'ABAX', 'ACCO', 'ABG', 'ACWI', 'ADX']\n",
    "\n",
    "ref_MST1 = create_Kruskal_MST(corr, stcks)\n",
    "\n",
    "ref_MST2 = create_Prim_MST(corr, stcks)\n",
    "\n",
    "print(sorted(ref_MST1.degree) == sorted(ref_MST2.degree))\n",
    "nx.draw(ref_MST2, with_labels=True, node_color='lightgreen')"
   ]
  },
  {
   "cell_type": "code",
   "execution_count": 7,
   "metadata": {},
   "outputs": [
    {
     "name": "stderr",
     "output_type": "stream",
     "text": [
      "\r",
      "  0%|          | 0/1000 [00:00<?, ?it/s]"
     ]
    },
    {
     "name": "stdout",
     "output_type": "stream",
     "text": [
      "normal\n"
     ]
    },
    {
     "name": "stderr",
     "output_type": "stream",
     "text": [
      "100%|██████████| 1000/1000 [00:00<00:00, 1354.56it/s]\n",
      "100%|██████████| 1000/1000 [00:01<00:00, 798.24it/s]\n",
      "100%|██████████| 1000/1000 [00:50<00:00, 19.66it/s]\n",
      "100%|██████████| 1000/1000 [00:47<00:00, 21.05it/s]\n",
      "100%|██████████| 1000/1000 [00:51<00:00, 19.55it/s]\n",
      "100%|██████████| 1000/1000 [01:21<00:00, 12.24it/s]\n",
      "100%|██████████| 1000/1000 [01:20<00:00, 12.37it/s]\n",
      "100%|██████████| 1000/1000 [00:00<00:00, 1215.97it/s]\n",
      "100%|██████████| 1000/1000 [00:03<00:00, 258.15it/s]\n",
      "100%|██████████| 1000/1000 [07:50<00:00,  2.13it/s]\n",
      "100%|██████████| 1000/1000 [07:46<00:00,  2.14it/s]\n",
      "100%|██████████| 1000/1000 [07:50<00:00,  2.12it/s]\n",
      "100%|██████████| 1000/1000 [14:23<00:00,  1.16it/s]\n",
      "100%|██████████| 1000/1000 [13:48<00:00,  1.21it/s]\n",
      "100%|██████████| 1000/1000 [00:00<00:00, 1067.02it/s]\n",
      "100%|██████████| 1000/1000 [00:08<00:00, 112.17it/s]\n",
      "100%|██████████| 1000/1000 [36:38<00:00,  2.20s/it]\n",
      "100%|██████████| 1000/1000 [36:55<00:00,  2.22s/it]\n",
      "100%|██████████| 1000/1000 [36:29<00:00,  2.19s/it]\n",
      "100%|██████████| 1000/1000 [1:12:11<00:00,  4.33s/it]\n",
      "100%|██████████| 1000/1000 [1:08:46<00:00,  4.13s/it]\n",
      " 14%|█▍        | 140/1000 [00:00<00:00, 1393.49it/s]"
     ]
    },
    {
     "name": "stdout",
     "output_type": "stream",
     "text": [
      "student\n"
     ]
    },
    {
     "name": "stderr",
     "output_type": "stream",
     "text": [
      "100%|██████████| 1000/1000 [00:00<00:00, 1355.09it/s]\n",
      "100%|██████████| 1000/1000 [00:01<00:00, 787.76it/s]\n",
      "100%|██████████| 1000/1000 [00:52<00:00, 18.98it/s]\n",
      "100%|██████████| 1000/1000 [00:47<00:00, 21.02it/s]\n",
      "100%|██████████| 1000/1000 [00:50<00:00, 19.65it/s]\n",
      "100%|██████████| 1000/1000 [01:24<00:00, 11.88it/s]\n",
      "100%|██████████| 1000/1000 [01:20<00:00, 12.37it/s]\n",
      "100%|██████████| 1000/1000 [00:00<00:00, 1330.05it/s]\n",
      "100%|██████████| 1000/1000 [00:01<00:00, 787.10it/s]\n",
      "100%|██████████| 1000/1000 [00:51<00:00, 19.38it/s]\n",
      "100%|██████████| 1000/1000 [00:48<00:00, 20.80it/s]\n",
      "100%|██████████| 1000/1000 [00:51<00:00, 19.40it/s]\n",
      "100%|██████████| 1000/1000 [01:22<00:00, 12.08it/s]\n",
      "100%|██████████| 1000/1000 [01:21<00:00, 12.31it/s]\n",
      "100%|██████████| 1000/1000 [00:00<00:00, 1255.83it/s]\n",
      "100%|██████████| 1000/1000 [00:03<00:00, 251.53it/s]\n",
      "100%|██████████| 1000/1000 [07:52<00:00,  2.12it/s]\n",
      "100%|██████████| 1000/1000 [08:03<00:00,  2.07it/s]\n",
      "100%|██████████| 1000/1000 [08:03<00:00,  2.07it/s]\n",
      "100%|██████████| 1000/1000 [14:13<00:00,  1.17it/s]\n",
      "100%|██████████| 1000/1000 [13:37<00:00,  1.22it/s]\n",
      "100%|██████████| 1000/1000 [00:00<00:00, 1156.30it/s]\n",
      "100%|██████████| 1000/1000 [00:03<00:00, 255.91it/s]\n",
      "100%|██████████| 1000/1000 [07:54<00:00,  2.11it/s]\n",
      "100%|██████████| 1000/1000 [07:42<00:00,  2.16it/s]\n",
      "100%|██████████| 1000/1000 [07:43<00:00,  2.16it/s]\n",
      "100%|██████████| 1000/1000 [13:49<00:00,  1.21it/s]\n",
      "100%|██████████| 1000/1000 [14:18<00:00,  1.16it/s]\n",
      "100%|██████████| 1000/1000 [00:01<00:00, 807.47it/s]\n",
      "100%|██████████| 1000/1000 [00:10<00:00, 91.23it/s]\n",
      "100%|██████████| 1000/1000 [37:22<00:00,  2.24s/it]\n",
      "100%|██████████| 1000/1000 [36:59<00:00,  2.22s/it]\n",
      "100%|██████████| 1000/1000 [36:12<00:00,  2.17s/it]\n",
      "100%|██████████| 1000/1000 [1:08:18<00:00,  4.10s/it]\n",
      "100%|██████████| 1000/1000 [1:07:54<00:00,  4.07s/it]\n",
      "100%|██████████| 1000/1000 [00:00<00:00, 1109.98it/s]\n",
      "100%|██████████| 1000/1000 [00:08<00:00, 114.54it/s]\n",
      "100%|██████████| 1000/1000 [35:59<00:00,  2.16s/it]\n",
      "100%|██████████| 1000/1000 [35:39<00:00,  2.14s/it]\n",
      "100%|██████████| 1000/1000 [36:38<00:00,  2.20s/it]\n",
      "100%|██████████| 1000/1000 [1:08:22<00:00,  4.10s/it]\n",
      "100%|██████████| 1000/1000 [1:06:26<00:00,  3.99s/it]\n",
      " 13%|█▎        | 127/1000 [00:00<00:00, 1264.27it/s]"
     ]
    },
    {
     "name": "stdout",
     "output_type": "stream",
     "text": [
      "mix\n"
     ]
    },
    {
     "name": "stderr",
     "output_type": "stream",
     "text": [
      "100%|██████████| 1000/1000 [00:00<00:00, 1324.55it/s]\n",
      "100%|██████████| 1000/1000 [00:01<00:00, 797.87it/s]\n",
      "100%|██████████| 1000/1000 [00:51<00:00, 19.47it/s]\n",
      "100%|██████████| 1000/1000 [00:47<00:00, 21.01it/s]\n",
      "100%|██████████| 1000/1000 [00:51<00:00, 19.43it/s]\n",
      "100%|██████████| 1000/1000 [01:22<00:00, 12.13it/s]\n",
      "100%|██████████| 1000/1000 [01:21<00:00, 12.32it/s]\n",
      "100%|██████████| 1000/1000 [00:00<00:00, 1328.86it/s]\n",
      "100%|██████████| 1000/1000 [00:01<00:00, 806.25it/s]\n",
      "100%|██████████| 1000/1000 [00:51<00:00, 19.37it/s]\n",
      "100%|██████████| 1000/1000 [00:47<00:00, 21.03it/s]\n",
      "100%|██████████| 1000/1000 [00:51<00:00, 19.55it/s]\n",
      "100%|██████████| 1000/1000 [01:22<00:00, 12.16it/s]\n",
      "100%|██████████| 1000/1000 [01:19<00:00, 12.52it/s]\n",
      "100%|██████████| 1000/1000 [00:00<00:00, 1361.28it/s]\n",
      "100%|██████████| 1000/1000 [00:01<00:00, 783.80it/s]\n",
      "100%|██████████| 1000/1000 [00:51<00:00, 19.40it/s]\n",
      "100%|██████████| 1000/1000 [00:46<00:00, 21.35it/s]\n",
      "100%|██████████| 1000/1000 [00:50<00:00, 19.73it/s]\n",
      "100%|██████████| 1000/1000 [01:21<00:00, 12.23it/s]\n",
      "100%|██████████| 1000/1000 [01:20<00:00, 12.41it/s]\n",
      "100%|██████████| 1000/1000 [00:00<00:00, 1373.83it/s]\n",
      "100%|██████████| 1000/1000 [00:01<00:00, 800.59it/s]\n",
      "100%|██████████| 1000/1000 [00:52<00:00, 19.18it/s]\n",
      "100%|██████████| 1000/1000 [00:47<00:00, 20.92it/s]\n",
      "100%|██████████| 1000/1000 [00:52<00:00, 19.15it/s]\n",
      "100%|██████████| 1000/1000 [01:22<00:00, 12.10it/s]\n",
      "100%|██████████| 1000/1000 [01:20<00:00, 12.48it/s]\n",
      "100%|██████████| 1000/1000 [00:00<00:00, 1288.94it/s]\n",
      "100%|██████████| 1000/1000 [00:03<00:00, 262.08it/s]\n",
      "100%|██████████| 1000/1000 [07:46<00:00,  2.14it/s]\n",
      "100%|██████████| 1000/1000 [07:35<00:00,  2.20it/s]\n",
      "100%|██████████| 1000/1000 [07:45<00:00,  2.15it/s]\n",
      "100%|██████████| 1000/1000 [13:48<00:00,  1.21it/s]\n",
      "100%|██████████| 1000/1000 [13:35<00:00,  1.23it/s]\n",
      "100%|██████████| 1000/1000 [00:00<00:00, 1250.94it/s]\n",
      "100%|██████████| 1000/1000 [00:03<00:00, 261.13it/s]\n",
      "100%|██████████| 1000/1000 [07:43<00:00,  2.16it/s]\n",
      "100%|██████████| 1000/1000 [07:34<00:00,  2.20it/s]\n",
      "100%|██████████| 1000/1000 [07:41<00:00,  2.17it/s]\n",
      "100%|██████████| 1000/1000 [13:44<00:00,  1.21it/s]\n",
      "100%|██████████| 1000/1000 [13:27<00:00,  1.24it/s]\n",
      "100%|██████████| 1000/1000 [00:00<00:00, 1281.51it/s]\n",
      "100%|██████████| 1000/1000 [00:03<00:00, 262.88it/s]\n",
      "100%|██████████| 1000/1000 [07:41<00:00,  2.17it/s]\n",
      "100%|██████████| 1000/1000 [07:40<00:00,  2.17it/s]\n",
      "100%|██████████| 1000/1000 [07:43<00:00,  2.16it/s]\n",
      "100%|██████████| 1000/1000 [13:44<00:00,  1.21it/s]\n",
      "100%|██████████| 1000/1000 [13:25<00:00,  1.24it/s]\n",
      "100%|██████████| 1000/1000 [00:00<00:00, 1267.20it/s]\n",
      "100%|██████████| 1000/1000 [00:03<00:00, 262.90it/s]\n",
      "100%|██████████| 1000/1000 [07:43<00:00,  2.16it/s]\n",
      "100%|██████████| 1000/1000 [07:37<00:00,  2.19it/s]\n",
      "100%|██████████| 1000/1000 [07:45<00:00,  2.15it/s]\n",
      "100%|██████████| 1000/1000 [13:45<00:00,  1.21it/s]\n",
      "100%|██████████| 1000/1000 [13:23<00:00,  1.24it/s]\n",
      "100%|██████████| 1000/1000 [00:00<00:00, 1181.70it/s]\n",
      "100%|██████████| 1000/1000 [00:08<00:00, 116.83it/s]\n",
      "100%|██████████| 1000/1000 [35:38<00:00,  2.14s/it]\n",
      "100%|██████████| 1000/1000 [36:01<00:00,  2.16s/it]\n",
      "100%|██████████| 1000/1000 [35:47<00:00,  2.15s/it]\n",
      "100%|██████████| 1000/1000 [1:08:49<00:00,  4.13s/it]\n",
      "100%|██████████| 1000/1000 [1:06:46<00:00,  4.01s/it]\n",
      "100%|██████████| 1000/1000 [00:00<00:00, 1125.75it/s]\n",
      "100%|██████████| 1000/1000 [00:08<00:00, 115.13it/s]\n",
      "100%|██████████| 1000/1000 [35:39<00:00,  2.14s/it]\n",
      "100%|██████████| 1000/1000 [35:21<00:00,  2.12s/it]\n",
      "100%|██████████| 1000/1000 [35:39<00:00,  2.14s/it]\n",
      "100%|██████████| 1000/1000 [1:08:39<00:00,  4.12s/it]\n",
      "100%|██████████| 1000/1000 [1:06:22<00:00,  3.98s/it]\n",
      "100%|██████████| 1000/1000 [00:00<00:00, 1165.37it/s]\n",
      "100%|██████████| 1000/1000 [00:08<00:00, 113.69it/s]\n",
      "100%|██████████| 1000/1000 [36:10<00:00,  2.17s/it]\n",
      "100%|██████████| 1000/1000 [35:21<00:00,  2.12s/it]\n",
      "100%|██████████| 1000/1000 [35:46<00:00,  2.15s/it]\n",
      "100%|██████████| 1000/1000 [1:11:10<00:00,  4.27s/it]\n",
      "100%|██████████| 1000/1000 [1:06:58<00:00,  4.02s/it]\n",
      "100%|██████████| 1000/1000 [00:00<00:00, 1152.51it/s]\n",
      "100%|██████████| 1000/1000 [00:08<00:00, 115.45it/s]\n",
      "100%|██████████| 1000/1000 [35:42<00:00,  2.14s/it]\n",
      "100%|██████████| 1000/1000 [35:39<00:00,  2.14s/it]\n",
      "100%|██████████| 1000/1000 [35:40<00:00,  2.14s/it]\n",
      "100%|██████████| 1000/1000 [1:08:49<00:00,  4.13s/it]\n",
      "100%|██████████| 1000/1000 [1:07:06<00:00,  4.03s/it]\n"
     ]
    }
   ],
   "source": [
    "total_compare(ref_MST1, corr, stcks, 'twostars')"
   ]
  },
  {
   "cell_type": "code",
   "execution_count": null,
   "metadata": {},
   "outputs": [],
   "source": []
  },
  {
   "cell_type": "code",
   "execution_count": null,
   "metadata": {},
   "outputs": [],
   "source": []
  }
 ],
 "metadata": {
  "kernelspec": {
   "display_name": "Python 3",
   "language": "python",
   "name": "python3"
  },
  "language_info": {
   "codemirror_mode": {
    "name": "ipython",
    "version": 3
   },
   "file_extension": ".py",
   "mimetype": "text/x-python",
   "name": "python",
   "nbconvert_exporter": "python",
   "pygments_lexer": "ipython3",
   "version": "3.7.4"
  }
 },
 "nbformat": 4,
 "nbformat_minor": 4
}
