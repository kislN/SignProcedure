{
 "cells": [
  {
   "cell_type": "code",
   "execution_count": 1,
   "metadata": {},
   "outputs": [],
   "source": [
    "import numpy as np \n",
    "import networkx as nx\n",
    "import pandas as pd\n",
    "import json\n",
    "from pprint import pprint\n",
    "pd.core.common.is_list_like = pd.api.types.is_list_like \n",
    "\n",
    "from tools.comparisons import *\n",
    "from tools.data_transform import *\n",
    "from hypotheses.sign_statistics import *\n",
    "from hypotheses.sign_tests import *\n",
    "from distributions.multivariate_normal import norm_seq\n",
    "from distributions.multivariate_t import student_seq\n",
    "\n"
   ]
  },
  {
   "cell_type": "code",
   "execution_count": null,
   "metadata": {},
   "outputs": [],
   "source": [
    "def total_compare(ref_MST, ref_corr, stocks, title):\n",
    "    print('normal')\n",
    "    normal = compare_norm(ref_MST, ref_corr, stocks, observ_num=[20], iters=10, alphas=[0.1])\n",
    "    with open(f\"data/{title}_normal.json\", \"w\") as write_file:\n",
    "        json.dump(normal, write_file)\n",
    "        \n",
    "    print('student')\n",
    "    student = compare_stud(ref_MST, ref_corr, stocks, observ_num=[20], iters=10, alphas=[0.1], dofs=[2, 3])\n",
    "    with open(f\"data/{title}_student.json\", \"w\") as write_file:\n",
    "        json.dump(student, write_file)\n",
    "        \n",
    "    print('mix')\n",
    "    mix = compare_mix(ref_MST, ref_corr, stocks, observ_num=[20], iters=10, alphas=[0.1], dofs=[2, 3], norm_rates=[0.5, 0.3])\n",
    "    with open(f\"data/{title}_mix.json\", \"w\") as write_file:\n",
    "        json.dump(mix, write_file)\n"
   ]
  },
  {
   "cell_type": "code",
   "execution_count": 2,
   "metadata": {},
   "outputs": [],
   "source": [
    "stcks = ['a', 'b', 'c', 'd', 'e', 'f']\n",
    "corr = [[1, 0.5, 0, 0, 0, 0],\\\n",
    "        [0.5, 1, 0.5, 0, 0, 0],\\\n",
    "        [0, 0.5, 1, 0.5, 0, 0],\\\n",
    "        [0, 0, 0.5, 1, 0.5, 0],\\\n",
    "        [0, 0, 0, 0.5, 1, 0.5],\\\n",
    "        [0, 0, 0, 0, 0.5, 1]]"
   ]
  },
  {
   "cell_type": "code",
   "execution_count": 3,
   "metadata": {},
   "outputs": [
    {
     "data": {
      "text/plain": [
       "array([[ 1.00000000e+00,  5.00176860e-01, -1.16941741e-02,\n",
       "        -4.13811535e-02, -5.16669480e-02, -4.90213132e-02],\n",
       "       [ 5.00176860e-01,  1.00000000e+00,  5.01659632e-01,\n",
       "         2.31125913e-02,  6.83048175e-04, -4.33589691e-03],\n",
       "       [-1.16941741e-02,  5.01659632e-01,  1.00000000e+00,\n",
       "         5.37543118e-01,  2.26918093e-02,  4.39562146e-02],\n",
       "       [-4.13811535e-02,  2.31125913e-02,  5.37543118e-01,\n",
       "         1.00000000e+00,  4.78590965e-01,  2.74167422e-03],\n",
       "       [-5.16669480e-02,  6.83048175e-04,  2.26918093e-02,\n",
       "         4.78590965e-01,  1.00000000e+00,  4.85073036e-01],\n",
       "       [-4.90213132e-02, -4.33589691e-03,  4.39562146e-02,\n",
       "         2.74167422e-03,  4.85073036e-01,  1.00000000e+00]])"
      ]
     },
     "execution_count": 3,
     "metadata": {},
     "output_type": "execute_result"
    }
   ],
   "source": [
    "corr = np.corrcoef(norm_seq(corr, 1000))\n",
    "corr"
   ]
  },
  {
   "cell_type": "code",
   "execution_count": 4,
   "metadata": {},
   "outputs": [
    {
     "data": {
      "image/png": "[encoded data removed]",
      "text/plain": [
       "<Figure size 432x288 with 1 Axes>"
      ]
     },
     "metadata": {},
     "output_type": "display_data"
    }
   ],
   "source": [
    "ref_MST1 = create_Kruskal_MST(corr, stcks)\n",
    "nx.draw(ref_MST1, with_labels=True, node_color='lightgreen')"
   ]
  },
  {
   "cell_type": "code",
   "execution_count": 5,
   "metadata": {},
   "outputs": [
    {
     "data": {
      "image/png": "[encoded data removed]",
      "text/plain": [
       "<Figure size 432x288 with 1 Axes>"
      ]
     },
     "metadata": {},
     "output_type": "display_data"
    }
   ],
   "source": [
    "ref_MST2 = create_Prim_MST(corr, stcks)\n",
    "nx.draw(ref_MST2, with_labels=True, node_color='lightgreen')"
   ]
  },
  {
   "cell_type": "code",
   "execution_count": null,
   "metadata": {},
   "outputs": [],
   "source": [
    "total_compare(ref_MST1, corr, stcks, 'path')"
   ]
  }
 ],
 "metadata": {
  "kernelspec": {
   "display_name": "Python 3",
   "language": "python",
   "name": "python3"
  },
  "language_info": {
   "codemirror_mode": {
    "name": "ipython",
    "version": 3
   },
   "file_extension": ".py",
   "mimetype": "text/x-python",
   "name": "python",
   "nbconvert_exporter": "python",
   "pygments_lexer": "ipython3",
   "version": "3.7.4"
  }
 },
 "nbformat": 4,
 "nbformat_minor": 4
}
