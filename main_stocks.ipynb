{
 "cells": [
  {
   "cell_type": "code",
   "execution_count": 1,
   "metadata": {
    "colab": {
     "base_uri": "https://localhost:8080/",
     "height": 71
    },
    "colab_type": "code",
    "id": "SEiTGHzMLfvO",
    "outputId": "5b39ab21-b0f8-4a28-df4d-421bbff2f18a",
    "pycharm": {
     "is_executing": false
    }
   },
   "outputs": [
    {
     "name": "stderr",
     "output_type": "stream",
     "text": [
      "/Users/stasyan/PycharmProjects/SignProcedure/venv/lib/python3.7/site-packages/fix_yahoo_finance/__init__.py:0: DeprecationWarning: \n",
      "\n",
      "*** `fix_yahoo_finance` was renamed to `yfinance`. ***\n",
      "Please install and use `yfinance` directly using `pip install yfinance -U`\n",
      "\n",
      "More information: https://github.com/ranaroussi/yfinance\n",
      "\n",
      "/Users/stasyan/PycharmProjects/SignProcedure/venv/lib/python3.7/site-packages/pandas_datareader/compat/__init__.py:7: FutureWarning: pandas.util.testing is deprecated. Use the functions in the public API at pandas.testing instead.\n",
      "  from pandas.util.testing import assert_frame_equal\n"
     ]
    }
   ],
   "source": [
    "import fix_yahoo_finance as yf  \n",
    "import pandas as pd \n",
    "import numpy as np \n",
    "import networkx as nx\n",
    "import scipy.special \n",
    "pd.core.common.is_list_like = pd.api.types.is_list_like \n",
    "import pandas_datareader as pdr \n",
    "from matplotlib import pyplot as plt\n",
    "from datetime import date, datetime\n",
    "import math\n",
    "import random\n",
    "\n",
    "from tools.comparisons import *\n",
    "from tools.data_transform import *\n",
    "from hypotheses.sign_statistics import *\n",
    "from hypotheses.sign_tests import *\n",
    "\n",
    "# from plotly.offline import iplot\n",
    "# import plotly.graph_objs as go\n",
    "# yf.pdr_override() "
   ]
  },
  {
   "cell_type": "markdown",
   "metadata": {
    "colab_type": "text",
    "id": "HSXaslFkwF04"
   },
   "source": [
    "##### Выкачиваем необходимые акции"
   ]
  },
  {
   "cell_type": "code",
   "execution_count": 0,
   "metadata": {
    "colab": {},
    "colab_type": "code",
    "id": "yzUXIt-SSYOw"
   },
   "outputs": [],
   "source": [
    "# stocks_trend = ['AAL', 'ABBV', 'ACB', 'ALT', 'BIOC', 'BTC-USD', 'CCL', 'COST', 'DAL', 'GE', \n",
    "#                 'JNJ', 'JPM', 'KHC', 'KO', 'LMT', 'LUV', 'NVDA', 'SBUX', 'T', 'TEAM', 'TELL', \n",
    "#                 'TWTR', 'VOO', 'VZ', 'WFC', 'WMT', 'WORK', 'XOM',' ^TNX']\n",
    "\n",
    "# stocks = ['AC','AI','AIR','MT','ATO'] \n",
    "# start = datetime.datetime(2019, 1, 1) \n",
    "# end = datetime.datetime(2020, 1, 1) \n",
    "# data = yf.download(stocks, start=start, end=end) "
   ]
  },
  {
   "cell_type": "code",
   "execution_count": 3,
   "metadata": {
    "colab": {
     "base_uri": "https://localhost:8080/",
     "height": 34
    },
    "colab_type": "code",
    "id": "kiylqMjpUKgh",
    "outputId": "97bf4760-0f39-4afd-e86d-68289ffa99b2"
   },
   "outputs": [
    {
     "name": "stdout",
     "output_type": "stream",
     "text": [
      "[*********************100%***********************]  9 of 9 downloaded\n"
     ]
    }
   ],
   "source": [
    "stocks_article = ['A', 'AA', 'AAP', 'AAPL', 'AAWW', 'ACCO', 'ABG', 'ACWI', 'ADX']\n",
    "start = datetime(2010, 11, 1) \n",
    "end = datetime(2011, 11, 1) \n",
    "data = yf.download(stocks_article, start=start, end=end) "
   ]
  },
  {
   "cell_type": "markdown",
   "metadata": {
    "colab_type": "text",
    "id": "xHZNqCTTwlH5"
   },
   "source": [
    "##### Проверяем и формируем данные"
   ]
  },
  {
   "cell_type": "code",
   "execution_count": 4,
   "metadata": {
    "colab": {
     "base_uri": "https://localhost:8080/",
     "height": 388
    },
    "colab_type": "code",
    "id": "Y4gHilcETdvC",
    "outputId": "6856a576-3f4f-43ee-e517-3819fa088dd5"
   },
   "outputs": [
    {
     "name": "stdout",
     "output_type": "stream",
     "text": [
      "(253, 54)\n"
     ]
    },
    {
     "data": {
      "text/html": [
       "<div>\n",
       "<style scoped>\n",
       "    .dataframe tbody tr th:only-of-type {\n",
       "        vertical-align: middle;\n",
       "    }\n",
       "\n",
       "    .dataframe tbody tr th {\n",
       "        vertical-align: top;\n",
       "    }\n",
       "\n",
       "    .dataframe thead tr th {\n",
       "        text-align: left;\n",
       "    }\n",
       "\n",
       "    .dataframe thead tr:last-of-type th {\n",
       "        text-align: right;\n",
       "    }\n",
       "</style>\n",
       "<table border=\"1\" class=\"dataframe\">\n",
       "  <thead>\n",
       "    <tr>\n",
       "      <th></th>\n",
       "      <th colspan=\"9\" halign=\"left\">Open</th>\n",
       "      <th colspan=\"9\" halign=\"left\">High</th>\n",
       "      <th colspan=\"9\" halign=\"left\">Low</th>\n",
       "      <th colspan=\"9\" halign=\"left\">Close</th>\n",
       "      <th colspan=\"9\" halign=\"left\">Adj Close</th>\n",
       "      <th colspan=\"9\" halign=\"left\">Volume</th>\n",
       "    </tr>\n",
       "    <tr>\n",
       "      <th></th>\n",
       "      <th>A</th>\n",
       "      <th>AA</th>\n",
       "      <th>AAP</th>\n",
       "      <th>AAPL</th>\n",
       "      <th>AAWW</th>\n",
       "      <th>ABG</th>\n",
       "      <th>ACCO</th>\n",
       "      <th>ACWI</th>\n",
       "      <th>ADX</th>\n",
       "      <th>A</th>\n",
       "      <th>AA</th>\n",
       "      <th>AAP</th>\n",
       "      <th>AAPL</th>\n",
       "      <th>AAWW</th>\n",
       "      <th>ABG</th>\n",
       "      <th>ACCO</th>\n",
       "      <th>ACWI</th>\n",
       "      <th>ADX</th>\n",
       "      <th>A</th>\n",
       "      <th>AA</th>\n",
       "      <th>AAP</th>\n",
       "      <th>AAPL</th>\n",
       "      <th>AAWW</th>\n",
       "      <th>ABG</th>\n",
       "      <th>ACCO</th>\n",
       "      <th>ACWI</th>\n",
       "      <th>ADX</th>\n",
       "      <th>A</th>\n",
       "      <th>AA</th>\n",
       "      <th>AAP</th>\n",
       "      <th>AAPL</th>\n",
       "      <th>AAWW</th>\n",
       "      <th>ABG</th>\n",
       "      <th>ACCO</th>\n",
       "      <th>ACWI</th>\n",
       "      <th>ADX</th>\n",
       "      <th>A</th>\n",
       "      <th>AA</th>\n",
       "      <th>AAP</th>\n",
       "      <th>AAPL</th>\n",
       "      <th>AAWW</th>\n",
       "      <th>ABG</th>\n",
       "      <th>ACCO</th>\n",
       "      <th>ACWI</th>\n",
       "      <th>ADX</th>\n",
       "      <th>A</th>\n",
       "      <th>AA</th>\n",
       "      <th>AAP</th>\n",
       "      <th>AAPL</th>\n",
       "      <th>AAWW</th>\n",
       "      <th>ABG</th>\n",
       "      <th>ACCO</th>\n",
       "      <th>ACWI</th>\n",
       "      <th>ADX</th>\n",
       "    </tr>\n",
       "    <tr>\n",
       "      <th>Date</th>\n",
       "      <th></th>\n",
       "      <th></th>\n",
       "      <th></th>\n",
       "      <th></th>\n",
       "      <th></th>\n",
       "      <th></th>\n",
       "      <th></th>\n",
       "      <th></th>\n",
       "      <th></th>\n",
       "      <th></th>\n",
       "      <th></th>\n",
       "      <th></th>\n",
       "      <th></th>\n",
       "      <th></th>\n",
       "      <th></th>\n",
       "      <th></th>\n",
       "      <th></th>\n",
       "      <th></th>\n",
       "      <th></th>\n",
       "      <th></th>\n",
       "      <th></th>\n",
       "      <th></th>\n",
       "      <th></th>\n",
       "      <th></th>\n",
       "      <th></th>\n",
       "      <th></th>\n",
       "      <th></th>\n",
       "      <th></th>\n",
       "      <th></th>\n",
       "      <th></th>\n",
       "      <th></th>\n",
       "      <th></th>\n",
       "      <th></th>\n",
       "      <th></th>\n",
       "      <th></th>\n",
       "      <th></th>\n",
       "      <th></th>\n",
       "      <th></th>\n",
       "      <th></th>\n",
       "      <th></th>\n",
       "      <th></th>\n",
       "      <th></th>\n",
       "      <th></th>\n",
       "      <th></th>\n",
       "      <th></th>\n",
       "      <th></th>\n",
       "      <th></th>\n",
       "      <th></th>\n",
       "      <th></th>\n",
       "      <th></th>\n",
       "      <th></th>\n",
       "      <th></th>\n",
       "      <th></th>\n",
       "      <th></th>\n",
       "    </tr>\n",
       "  </thead>\n",
       "  <tbody>\n",
       "    <tr>\n",
       "      <th>2010-11-01</th>\n",
       "      <td>24.992847</td>\n",
       "      <td>31.695570</td>\n",
       "      <td>65.290001</td>\n",
       "      <td>43.174286</td>\n",
       "      <td>55.959999</td>\n",
       "      <td>14.49</td>\n",
       "      <td>6.26</td>\n",
       "      <td>45.080002</td>\n",
       "      <td>10.30</td>\n",
       "      <td>25.121603</td>\n",
       "      <td>31.935869</td>\n",
       "      <td>65.339996</td>\n",
       "      <td>43.657143</td>\n",
       "      <td>57.660000</td>\n",
       "      <td>14.650000</td>\n",
       "      <td>6.48</td>\n",
       "      <td>45.230000</td>\n",
       "      <td>10.37</td>\n",
       "      <td>24.592276</td>\n",
       "      <td>31.118851</td>\n",
       "      <td>64.459999</td>\n",
       "      <td>43.171429</td>\n",
       "      <td>54.200001</td>\n",
       "      <td>14.39</td>\n",
       "      <td>5.96</td>\n",
       "      <td>44.639999</td>\n",
       "      <td>10.25</td>\n",
       "      <td>24.856939</td>\n",
       "      <td>31.359150</td>\n",
       "      <td>64.760002</td>\n",
       "      <td>43.454285</td>\n",
       "      <td>55.599998</td>\n",
       "      <td>14.57</td>\n",
       "      <td>6.07</td>\n",
       "      <td>44.889999</td>\n",
       "      <td>10.27</td>\n",
       "      <td>22.936726</td>\n",
       "      <td>29.224016</td>\n",
       "      <td>63.244057</td>\n",
       "      <td>37.720089</td>\n",
       "      <td>55.599998</td>\n",
       "      <td>14.57</td>\n",
       "      <td>5.702044</td>\n",
       "      <td>36.302299</td>\n",
       "      <td>5.321871</td>\n",
       "      <td>2885400</td>\n",
       "      <td>7852500</td>\n",
       "      <td>555700</td>\n",
       "      <td>105972300</td>\n",
       "      <td>746000</td>\n",
       "      <td>202600</td>\n",
       "      <td>456300</td>\n",
       "      <td>176600</td>\n",
       "      <td>254900</td>\n",
       "    </tr>\n",
       "    <tr>\n",
       "      <th>2010-11-02</th>\n",
       "      <td>25.021460</td>\n",
       "      <td>31.599449</td>\n",
       "      <td>65.110001</td>\n",
       "      <td>43.857143</td>\n",
       "      <td>56.150002</td>\n",
       "      <td>14.84</td>\n",
       "      <td>6.14</td>\n",
       "      <td>45.330002</td>\n",
       "      <td>10.33</td>\n",
       "      <td>25.171675</td>\n",
       "      <td>31.839750</td>\n",
       "      <td>65.190002</td>\n",
       "      <td>44.312859</td>\n",
       "      <td>59.029999</td>\n",
       "      <td>15.120000</td>\n",
       "      <td>6.22</td>\n",
       "      <td>45.450001</td>\n",
       "      <td>10.38</td>\n",
       "      <td>24.878397</td>\n",
       "      <td>31.455271</td>\n",
       "      <td>64.480003</td>\n",
       "      <td>43.857143</td>\n",
       "      <td>55.810001</td>\n",
       "      <td>14.70</td>\n",
       "      <td>6.04</td>\n",
       "      <td>45.240002</td>\n",
       "      <td>10.31</td>\n",
       "      <td>25.078684</td>\n",
       "      <td>31.815720</td>\n",
       "      <td>64.570000</td>\n",
       "      <td>44.194286</td>\n",
       "      <td>58.869999</td>\n",
       "      <td>14.90</td>\n",
       "      <td>6.12</td>\n",
       "      <td>45.320000</td>\n",
       "      <td>10.33</td>\n",
       "      <td>23.141346</td>\n",
       "      <td>29.649498</td>\n",
       "      <td>63.058491</td>\n",
       "      <td>38.362438</td>\n",
       "      <td>58.869999</td>\n",
       "      <td>14.90</td>\n",
       "      <td>5.749012</td>\n",
       "      <td>36.650043</td>\n",
       "      <td>5.352963</td>\n",
       "      <td>2930000</td>\n",
       "      <td>7370600</td>\n",
       "      <td>472000</td>\n",
       "      <td>108482500</td>\n",
       "      <td>448400</td>\n",
       "      <td>181200</td>\n",
       "      <td>223500</td>\n",
       "      <td>266900</td>\n",
       "      <td>130800</td>\n",
       "    </tr>\n",
       "    <tr>\n",
       "      <th>2010-11-03</th>\n",
       "      <td>25.164520</td>\n",
       "      <td>31.695570</td>\n",
       "      <td>64.570000</td>\n",
       "      <td>44.481430</td>\n",
       "      <td>58.730000</td>\n",
       "      <td>14.88</td>\n",
       "      <td>6.11</td>\n",
       "      <td>45.369999</td>\n",
       "      <td>10.32</td>\n",
       "      <td>25.236052</td>\n",
       "      <td>31.839750</td>\n",
       "      <td>65.089996</td>\n",
       "      <td>44.697144</td>\n",
       "      <td>59.880001</td>\n",
       "      <td>15.020000</td>\n",
       "      <td>6.17</td>\n",
       "      <td>45.630001</td>\n",
       "      <td>10.37</td>\n",
       "      <td>24.721029</td>\n",
       "      <td>31.142879</td>\n",
       "      <td>64.190002</td>\n",
       "      <td>44.075714</td>\n",
       "      <td>57.950001</td>\n",
       "      <td>14.66</td>\n",
       "      <td>5.91</td>\n",
       "      <td>44.950001</td>\n",
       "      <td>10.28</td>\n",
       "      <td>25.114449</td>\n",
       "      <td>31.575420</td>\n",
       "      <td>64.940002</td>\n",
       "      <td>44.685715</td>\n",
       "      <td>59.599998</td>\n",
       "      <td>15.00</td>\n",
       "      <td>6.10</td>\n",
       "      <td>45.570000</td>\n",
       "      <td>10.36</td>\n",
       "      <td>23.174349</td>\n",
       "      <td>29.492386</td>\n",
       "      <td>63.419838</td>\n",
       "      <td>38.789024</td>\n",
       "      <td>59.599998</td>\n",
       "      <td>15.00</td>\n",
       "      <td>5.730224</td>\n",
       "      <td>36.852230</td>\n",
       "      <td>5.368509</td>\n",
       "      <td>3352800</td>\n",
       "      <td>8949600</td>\n",
       "      <td>555300</td>\n",
       "      <td>127087100</td>\n",
       "      <td>272200</td>\n",
       "      <td>105600</td>\n",
       "      <td>238400</td>\n",
       "      <td>241300</td>\n",
       "      <td>70500</td>\n",
       "    </tr>\n",
       "    <tr>\n",
       "      <th>2010-11-04</th>\n",
       "      <td>25.393419</td>\n",
       "      <td>32.104080</td>\n",
       "      <td>65.620003</td>\n",
       "      <td>45.064285</td>\n",
       "      <td>60.000000</td>\n",
       "      <td>15.37</td>\n",
       "      <td>6.26</td>\n",
       "      <td>46.169998</td>\n",
       "      <td>10.41</td>\n",
       "      <td>25.779686</td>\n",
       "      <td>32.728859</td>\n",
       "      <td>65.809998</td>\n",
       "      <td>45.740002</td>\n",
       "      <td>61.000000</td>\n",
       "      <td>16.049999</td>\n",
       "      <td>6.35</td>\n",
       "      <td>46.599998</td>\n",
       "      <td>10.54</td>\n",
       "      <td>25.329042</td>\n",
       "      <td>32.080051</td>\n",
       "      <td>65.080002</td>\n",
       "      <td>45.004284</td>\n",
       "      <td>59.110001</td>\n",
       "      <td>15.34</td>\n",
       "      <td>6.12</td>\n",
       "      <td>46.049999</td>\n",
       "      <td>10.41</td>\n",
       "      <td>25.743919</td>\n",
       "      <td>32.680801</td>\n",
       "      <td>65.809998</td>\n",
       "      <td>45.467144</td>\n",
       "      <td>60.150002</td>\n",
       "      <td>15.83</td>\n",
       "      <td>6.19</td>\n",
       "      <td>46.599998</td>\n",
       "      <td>10.52</td>\n",
       "      <td>23.755194</td>\n",
       "      <td>30.524843</td>\n",
       "      <td>64.269470</td>\n",
       "      <td>39.467331</td>\n",
       "      <td>60.150002</td>\n",
       "      <td>15.83</td>\n",
       "      <td>5.814770</td>\n",
       "      <td>37.685181</td>\n",
       "      <td>5.451420</td>\n",
       "      <td>3856600</td>\n",
       "      <td>11662600</td>\n",
       "      <td>498100</td>\n",
       "      <td>160622000</td>\n",
       "      <td>407300</td>\n",
       "      <td>425800</td>\n",
       "      <td>298300</td>\n",
       "      <td>880200</td>\n",
       "      <td>221300</td>\n",
       "    </tr>\n",
       "    <tr>\n",
       "      <th>2010-11-05</th>\n",
       "      <td>25.729614</td>\n",
       "      <td>32.849010</td>\n",
       "      <td>65.989998</td>\n",
       "      <td>45.427143</td>\n",
       "      <td>60.889999</td>\n",
       "      <td>15.91</td>\n",
       "      <td>6.23</td>\n",
       "      <td>46.529999</td>\n",
       "      <td>10.56</td>\n",
       "      <td>26.037195</td>\n",
       "      <td>33.834240</td>\n",
       "      <td>66.110001</td>\n",
       "      <td>45.652859</td>\n",
       "      <td>61.439999</td>\n",
       "      <td>16.070000</td>\n",
       "      <td>6.55</td>\n",
       "      <td>46.700001</td>\n",
       "      <td>10.61</td>\n",
       "      <td>25.643776</td>\n",
       "      <td>32.488560</td>\n",
       "      <td>65.370003</td>\n",
       "      <td>45.250000</td>\n",
       "      <td>60.500000</td>\n",
       "      <td>15.57</td>\n",
       "      <td>6.19</td>\n",
       "      <td>46.320000</td>\n",
       "      <td>10.55</td>\n",
       "      <td>26.022890</td>\n",
       "      <td>33.641998</td>\n",
       "      <td>65.629997</td>\n",
       "      <td>45.304287</td>\n",
       "      <td>61.189999</td>\n",
       "      <td>15.81</td>\n",
       "      <td>6.54</td>\n",
       "      <td>46.509998</td>\n",
       "      <td>10.59</td>\n",
       "      <td>24.012611</td>\n",
       "      <td>31.422634</td>\n",
       "      <td>64.093681</td>\n",
       "      <td>39.325974</td>\n",
       "      <td>61.189999</td>\n",
       "      <td>15.81</td>\n",
       "      <td>6.143553</td>\n",
       "      <td>37.612385</td>\n",
       "      <td>5.487693</td>\n",
       "      <td>3263200</td>\n",
       "      <td>13374600</td>\n",
       "      <td>647800</td>\n",
       "      <td>90313300</td>\n",
       "      <td>272800</td>\n",
       "      <td>191000</td>\n",
       "      <td>323100</td>\n",
       "      <td>286300</td>\n",
       "      <td>102300</td>\n",
       "    </tr>\n",
       "  </tbody>\n",
       "</table>\n",
       "</div>"
      ],
      "text/plain": [
       "                 Open                        ...  Volume                \n",
       "                    A         AA        AAP  ...    ACCO    ACWI     ADX\n",
       "Date                                         ...                        \n",
       "2010-11-01  24.992847  31.695570  65.290001  ...  456300  176600  254900\n",
       "2010-11-02  25.021460  31.599449  65.110001  ...  223500  266900  130800\n",
       "2010-11-03  25.164520  31.695570  64.570000  ...  238400  241300   70500\n",
       "2010-11-04  25.393419  32.104080  65.620003  ...  298300  880200  221300\n",
       "2010-11-05  25.729614  32.849010  65.989998  ...  323100  286300  102300\n",
       "\n",
       "[5 rows x 54 columns]"
      ]
     },
     "execution_count": 4,
     "metadata": {
      "tags": []
     },
     "output_type": "execute_result"
    }
   ],
   "source": [
    "print(data.shape)\n",
    "data.head()"
   ]
  },
  {
   "cell_type": "code",
   "execution_count": 5,
   "metadata": {
    "colab": {
     "base_uri": "https://localhost:8080/",
     "height": 334
    },
    "colab_type": "code",
    "id": "eHOIBCLhRIVI",
    "outputId": "587c9711-abbd-469f-e971-f5e2f571cf4b"
   },
   "outputs": [
    {
     "name": "stderr",
     "output_type": "stream",
     "text": [
      "/usr/local/lib/python3.6/dist-packages/pandas/core/generic.py:3936: PerformanceWarning:\n",
      "\n",
      "dropping on a non-lexsorted multi-index without a level parameter may impact performance.\n",
      "\n"
     ]
    },
    {
     "data": {
      "text/html": [
       "<div>\n",
       "<style scoped>\n",
       "    .dataframe tbody tr th:only-of-type {\n",
       "        vertical-align: middle;\n",
       "    }\n",
       "\n",
       "    .dataframe tbody tr th {\n",
       "        vertical-align: top;\n",
       "    }\n",
       "\n",
       "    .dataframe thead tr th {\n",
       "        text-align: left;\n",
       "    }\n",
       "\n",
       "    .dataframe thead tr:last-of-type th {\n",
       "        text-align: right;\n",
       "    }\n",
       "</style>\n",
       "<table border=\"1\" class=\"dataframe\">\n",
       "  <thead>\n",
       "    <tr>\n",
       "      <th></th>\n",
       "      <th colspan=\"9\" halign=\"left\">Close</th>\n",
       "    </tr>\n",
       "    <tr>\n",
       "      <th></th>\n",
       "      <th>A</th>\n",
       "      <th>AA</th>\n",
       "      <th>AAP</th>\n",
       "      <th>AAPL</th>\n",
       "      <th>AAWW</th>\n",
       "      <th>ABG</th>\n",
       "      <th>ACCO</th>\n",
       "      <th>ACWI</th>\n",
       "      <th>ADX</th>\n",
       "    </tr>\n",
       "    <tr>\n",
       "      <th>Date</th>\n",
       "      <th></th>\n",
       "      <th></th>\n",
       "      <th></th>\n",
       "      <th></th>\n",
       "      <th></th>\n",
       "      <th></th>\n",
       "      <th></th>\n",
       "      <th></th>\n",
       "      <th></th>\n",
       "    </tr>\n",
       "  </thead>\n",
       "  <tbody>\n",
       "    <tr>\n",
       "      <th>2010-11-01</th>\n",
       "      <td>24.856939</td>\n",
       "      <td>31.359150</td>\n",
       "      <td>64.760002</td>\n",
       "      <td>43.454285</td>\n",
       "      <td>55.599998</td>\n",
       "      <td>14.57</td>\n",
       "      <td>6.07</td>\n",
       "      <td>44.889999</td>\n",
       "      <td>10.27</td>\n",
       "    </tr>\n",
       "    <tr>\n",
       "      <th>2010-11-02</th>\n",
       "      <td>25.078684</td>\n",
       "      <td>31.815720</td>\n",
       "      <td>64.570000</td>\n",
       "      <td>44.194286</td>\n",
       "      <td>58.869999</td>\n",
       "      <td>14.90</td>\n",
       "      <td>6.12</td>\n",
       "      <td>45.320000</td>\n",
       "      <td>10.33</td>\n",
       "    </tr>\n",
       "    <tr>\n",
       "      <th>2010-11-03</th>\n",
       "      <td>25.114449</td>\n",
       "      <td>31.575420</td>\n",
       "      <td>64.940002</td>\n",
       "      <td>44.685715</td>\n",
       "      <td>59.599998</td>\n",
       "      <td>15.00</td>\n",
       "      <td>6.10</td>\n",
       "      <td>45.570000</td>\n",
       "      <td>10.36</td>\n",
       "    </tr>\n",
       "    <tr>\n",
       "      <th>2010-11-04</th>\n",
       "      <td>25.743919</td>\n",
       "      <td>32.680801</td>\n",
       "      <td>65.809998</td>\n",
       "      <td>45.467144</td>\n",
       "      <td>60.150002</td>\n",
       "      <td>15.83</td>\n",
       "      <td>6.19</td>\n",
       "      <td>46.599998</td>\n",
       "      <td>10.52</td>\n",
       "    </tr>\n",
       "    <tr>\n",
       "      <th>2010-11-05</th>\n",
       "      <td>26.022890</td>\n",
       "      <td>33.641998</td>\n",
       "      <td>65.629997</td>\n",
       "      <td>45.304287</td>\n",
       "      <td>61.189999</td>\n",
       "      <td>15.81</td>\n",
       "      <td>6.54</td>\n",
       "      <td>46.509998</td>\n",
       "      <td>10.59</td>\n",
       "    </tr>\n",
       "  </tbody>\n",
       "</table>\n",
       "</div>"
      ],
      "text/plain": [
       "                Close                        ...                        \n",
       "                    A         AA        AAP  ...  ACCO       ACWI    ADX\n",
       "Date                                         ...                        \n",
       "2010-11-01  24.856939  31.359150  64.760002  ...  6.07  44.889999  10.27\n",
       "2010-11-02  25.078684  31.815720  64.570000  ...  6.12  45.320000  10.33\n",
       "2010-11-03  25.114449  31.575420  64.940002  ...  6.10  45.570000  10.36\n",
       "2010-11-04  25.743919  32.680801  65.809998  ...  6.19  46.599998  10.52\n",
       "2010-11-05  26.022890  33.641998  65.629997  ...  6.54  46.509998  10.59\n",
       "\n",
       "[5 rows x 9 columns]"
      ]
     },
     "execution_count": 5,
     "metadata": {
      "tags": []
     },
     "output_type": "execute_result"
    }
   ],
   "source": [
    "data.drop(['Open', 'High', 'Low', 'Adj Close', 'Volume'], axis='columns', inplace=True)\n",
    "data.head()"
   ]
  },
  {
   "cell_type": "markdown",
   "metadata": {
    "colab_type": "text",
    "id": "IkK5Eaz32Too"
   },
   "source": [
    "### Сверяемся со статьей \"Measures of uncertainty in market network analysis\""
   ]
  },
  {
   "cell_type": "markdown",
   "metadata": {
    "colab_type": "text",
    "id": "izW9RCju2Exk"
   },
   "source": [
    "##### Данная матрица корреляций и лист акций из статьи\n",
    "\n",
    "\n"
   ]
  },
  {
   "cell_type": "code",
   "execution_count": 2,
   "metadata": {
    "colab": {},
    "colab_type": "code",
    "id": "OUHt577ngMAs"
   },
   "outputs": [],
   "source": [
    "article_corr = [[1.0000, 0.7220, 0.4681, 0.4809, 0.6209, 0.5380, 0.6252, 0.6285, 0.7786, 0.7909], \\\n",
    "                [0.7220, 1.0000, 0.4395, 0.5979, 0.6381, 0.5725, 0.6666, 0.6266, 0.8583, 0.8640], \\\n",
    "                [0.4681, 0.4395, 1.0000, 0.3432, 0.3468, 0.2740, 0.4090, 0.4016, 0.4615, 0.4832], \\\n",
    "                [0.4809, 0.5979, 0.3432, 1.0000, 0.4518, 0.4460, 0.4635, 0.4940, 0.6447, 0.6601], \\\n",
    "                [0.6209, 0.6381, 0.3468, 0.4518, 1.0000, 0.5640, 0.5994, 0.5369, 0.7170, 0.7136], \\\n",
    "                [0.5380, 0.5725, 0.2740, 0.4460, 0.5640, 1.0000, 0.4969, 0.4775, 0.6439, 0.6242], \\\n",
    "                [0.6252, 0.6666, 0.4090, 0.4635, 0.5994, 0.4969, 1.0000, 0.6098, 0.7161, 0.7158], \\\n",
    "                [0.6285, 0.6266, 0.4016, 0.4940, 0.5369, 0.4775, 0.6098, 1.0000, 0.6805, 0.6748], \\\n",
    "                [0.7786, 0.8583, 0.4615, 0.6447, 0.7170, 0.6439, 0.7161, 0.6805, 1.0000, 0.9523], \\\n",
    "                [0.7909, 0.8640, 0.4832, 0.6601, 0.7136, 0.6242, 0.7158, 0.6748, 0.9523, 1.0000]]\n",
    "\n",
    "article_stocks = ['A', 'AA', 'AAP', 'AAPL', 'AAWW', 'ABAX', 'ACCO', 'ABG', 'ACWI', 'ADX']"
   ]
  },
  {
   "cell_type": "markdown",
   "metadata": {
    "colab_type": "text",
    "id": "XPDQr6RV2PkS"
   },
   "source": [
    "##### MST по данной матрице корреляций"
   ]
  },
  {
   "cell_type": "code",
   "execution_count": 13,
   "metadata": {
    "colab": {
     "base_uri": "https://localhost:8080/",
     "height": 54
    },
    "colab_type": "code",
    "id": "fBucgvlLgMGu",
    "outputId": "6a4e27b9-a701-47fe-bf7c-309e8e86d60a"
   },
   "outputs": [
    {
     "data": {
      "image/png": "[encoded data removed]",
      "text/plain": [
       "<Figure size 432x288 with 1 Axes>"
      ]
     },
     "metadata": {},
     "output_type": "display_data"
    }
   ],
   "source": [
    "ref_MST1 = create_Kruskal_MST(article_corr, article_stocks)\n",
    "nx.draw(ref_MST1, with_labels=True, node_color='lightgreen')"
   ]
  },
  {
   "cell_type": "code",
   "execution_count": 12,
   "metadata": {
    "colab": {
     "base_uri": "https://localhost:8080/",
     "height": 54
    },
    "colab_type": "code",
    "id": "nUvV6l2VgMN7",
    "outputId": "528d58dc-9f59-4330-f4f2-f02323dbb226"
   },
   "outputs": [
    {
     "data": {
      "image/png": "[encoded data removed]",
      "text/plain": [
       "<Figure size 432x288 with 1 Axes>"
      ]
     },
     "metadata": {},
     "output_type": "display_data"
    }
   ],
   "source": [
    "ref_MST2 = create_Prim_MST(article_corr, article_stocks)\n",
    "nx.draw(ref_MST2, with_labels=True, node_color='lightgreen')"
   ]
  },
  {
   "cell_type": "code",
   "execution_count": 17,
   "metadata": {},
   "outputs": [
    {
     "name": "stdout",
     "output_type": "stream",
     "text": [
      "observ = 5, same = 0.0\n",
      "observ = 10, same = 0.0\n",
      "observ = 20, same = 0.003\n",
      "observ = 100, same = 0.075\n",
      "observ = 1000, same = 0.255\n",
      "observ = 10000, same = 0.537\n",
      "observ = 50000, same = 0.619\n"
     ]
    }
   ],
   "source": [
    "for observ in [5, 10, 20, 100, 1000, 10000, 50000]:\n",
    "    print ('observ = {}, same = {}'.format(observ, compare_MSTs(ref_MST1, article_corr, observ, article_stocks, measure='Pearson', distr='normal')))"
   ]
  },
  {
   "cell_type": "code",
   "execution_count": 15,
   "metadata": {},
   "outputs": [
    {
     "name": "stdout",
     "output_type": "stream",
     "text": [
      "observ = 5, same = 0.0\n",
      "observ = 10, same = 0.0\n",
      "observ = 20, same = 0.0\n",
      "observ = 100, same = 0.005\n",
      "observ = 1000, same = 0.134\n",
      "observ = 10000, same = 0.301\n",
      "observ = 50000, same = 0.456\n"
     ]
    }
   ],
   "source": [
    "for observ in [5, 10, 20, 100, 1000, 10000, 50000]:\n",
    "    print ('observ = {}, same = {}'.format(observ, compare_MSTs(ref_MST1, article_corr, observ, article_stocks, measure='Sign', distr='normal')))"
   ]
  },
  {
   "cell_type": "code",
   "execution_count": 19,
   "metadata": {},
   "outputs": [
    {
     "name": "stdout",
     "output_type": "stream",
     "text": [
      "observ = 5, same = 0.0\n",
      "observ = 10, same = 0.0\n",
      "observ = 20, same = 0.0\n",
      "observ = 100, same = 0.001\n",
      "observ = 1000, same = 0.001\n",
      "observ = 10000, same = 0.0\n",
      "observ = 50000, same = 0.0\n"
     ]
    }
   ],
   "source": [
    "for observ in [5, 10, 20, 100, 1000, 10000, 50000]:\n",
    "    print ('observ = {}, same = {}'.format(observ, compare_MSTs(ref_MST1, article_corr, observ, article_stocks, measure='Pearson', distr='Student')))"
   ]
  },
  {
   "cell_type": "code",
   "execution_count": 20,
   "metadata": {},
   "outputs": [
    {
     "name": "stdout",
     "output_type": "stream",
     "text": [
      "observ = 5, same = 0.0\n",
      "observ = 10, same = 0.0\n",
      "observ = 20, same = 0.0\n",
      "observ = 100, same = 0.005\n",
      "observ = 1000, same = 0.123\n",
      "observ = 10000, same = 0.261\n",
      "observ = 50000, same = 0.471\n"
     ]
    }
   ],
   "source": [
    "for observ in [5, 10, 20, 100, 1000, 10000, 50000]:\n",
    "    print ('observ = {}, same = {}'.format(observ, compare_MSTs(ref_MST1, article_corr, observ, article_stocks, measure='Sign', distr='Student')))"
   ]
  },
  {
   "cell_type": "markdown",
   "metadata": {
    "colab_type": "text",
    "id": "B16NSqxf3IP4"
   },
   "source": [
    "#### Генерация случайных последовательностей из нормального распределния с данной матрицей корреляции и нулевым вектором математетического ожидания, построение MST по новым СВ и сравнение его с истиным MST"
   ]
  },
  {
   "cell_type": "markdown",
   "metadata": {
    "colab_type": "text",
    "id": "w9hkNF31QCrd"
   },
   "source": [
    "##### Сравниваем истиное MST с новым MST, полученными при разных кол-вах наблюдений"
   ]
  },
  {
   "cell_type": "code",
   "execution_count": 5,
   "metadata": {
    "colab": {},
    "colab_type": "code",
    "id": "JCa5Xn5S5f8N"
   },
   "outputs": [
    {
     "name": "stdout",
     "output_type": "stream",
     "text": [
      "observ = 5, same = 0.0\n",
      "observ = 10, same = 0.0\n",
      "observ = 20, same = 0.002\n",
      "observ = 100, same = 0.065\n",
      "observ = 1000, same = 0.263\n",
      "observ = 10000, same = 0.525\n",
      "observ = 50000, same = 0.61\n"
     ]
    }
   ],
   "source": [
    "for observ in [5, 10, 20, 100, 1000, 10000, 50000]:\n",
    "    print ('observ = {}, same = {}'.format(observ, compare_MSTs(ref_MST1, article_corr, observ, article_stocks, kind='Pearson')))"
   ]
  },
  {
   "cell_type": "markdown",
   "metadata": {},
   "source": [
    "Значения из статьи: 0, 0, 0.005, 0.075, 0.258, 0.545, 0.647.     \n",
    "Значит генерируем новые последовательность СВ и строим МСТ правильно (+ МСТ построенные по двум разным алгоритмам совпадают, так как ниразу не выпала -1)"
   ]
  },
  {
   "cell_type": "code",
   "execution_count": 6,
   "metadata": {},
   "outputs": [
    {
     "name": "stdout",
     "output_type": "stream",
     "text": [
      "observ = 5, same = -1\n",
      "observ = 10, same = -1\n",
      "observ = 20, same = -1\n",
      "observ = 100, same = -1\n",
      "observ = 1000, same = -1\n",
      "observ = 10000, same = -1\n"
     ]
    },
    {
     "ename": "KeyboardInterrupt",
     "evalue": "",
     "output_type": "error",
     "traceback": [
      "\u001b[0;31m---------------------------------------------------------------------------\u001b[0m",
      "\u001b[0;31mKeyboardInterrupt\u001b[0m                         Traceback (most recent call last)",
      "\u001b[0;32m<ipython-input-6-31eddfd53840>\u001b[0m in \u001b[0;36m<module>\u001b[0;34m\u001b[0m\n\u001b[1;32m      1\u001b[0m \u001b[0;32mfor\u001b[0m \u001b[0mobserv\u001b[0m \u001b[0;32min\u001b[0m \u001b[0;34m[\u001b[0m\u001b[0;36m5\u001b[0m\u001b[0;34m,\u001b[0m \u001b[0;36m10\u001b[0m\u001b[0;34m,\u001b[0m \u001b[0;36m20\u001b[0m\u001b[0;34m,\u001b[0m \u001b[0;36m100\u001b[0m\u001b[0;34m,\u001b[0m \u001b[0;36m1000\u001b[0m\u001b[0;34m,\u001b[0m \u001b[0;36m10000\u001b[0m\u001b[0;34m,\u001b[0m \u001b[0;36m50000\u001b[0m\u001b[0;34m]\u001b[0m\u001b[0;34m:\u001b[0m\u001b[0;34m\u001b[0m\u001b[0;34m\u001b[0m\u001b[0m\n\u001b[0;32m----> 2\u001b[0;31m     \u001b[0mprint\u001b[0m \u001b[0;34m(\u001b[0m\u001b[0;34m'observ = {}, same = {}'\u001b[0m\u001b[0;34m.\u001b[0m\u001b[0mformat\u001b[0m\u001b[0;34m(\u001b[0m\u001b[0mobserv\u001b[0m\u001b[0;34m,\u001b[0m \u001b[0mcompare_MSTs\u001b[0m\u001b[0;34m(\u001b[0m\u001b[0mref_MST1\u001b[0m\u001b[0;34m,\u001b[0m \u001b[0marticle_corr\u001b[0m\u001b[0;34m,\u001b[0m \u001b[0mobserv\u001b[0m\u001b[0;34m,\u001b[0m \u001b[0marticle_stocks\u001b[0m\u001b[0;34m,\u001b[0m \u001b[0mkind\u001b[0m\u001b[0;34m=\u001b[0m\u001b[0;34m'Sign'\u001b[0m\u001b[0;34m)\u001b[0m\u001b[0;34m)\u001b[0m\u001b[0;34m)\u001b[0m\u001b[0;34m\u001b[0m\u001b[0;34m\u001b[0m\u001b[0m\n\u001b[0m",
      "\u001b[0;32m~/PycharmProjects/SignProcedure/tools/comparisons.py\u001b[0m in \u001b[0;36mcompare_MSTs\u001b[0;34m(ref_MST, ref_corr, observ_num, stocks, iters, kind)\u001b[0m\n\u001b[1;32m     21\u001b[0m         \u001b[0;32melif\u001b[0m \u001b[0mkind\u001b[0m \u001b[0;34m==\u001b[0m \u001b[0;34m'Sign'\u001b[0m\u001b[0;34m:\u001b[0m\u001b[0;34m\u001b[0m\u001b[0;34m\u001b[0m\u001b[0m\n\u001b[1;32m     22\u001b[0m             \u001b[0mnew_inds\u001b[0m \u001b[0;34m=\u001b[0m \u001b[0mget_inds_matrix\u001b[0m\u001b[0;34m(\u001b[0m\u001b[0mnew_rets\u001b[0m\u001b[0;34m)\u001b[0m\u001b[0;34m\u001b[0m\u001b[0;34m\u001b[0m\u001b[0m\n\u001b[0;32m---> 23\u001b[0;31m             \u001b[0mnew_corr\u001b[0m \u001b[0;34m=\u001b[0m \u001b[0mget_sign_matrix\u001b[0m\u001b[0;34m(\u001b[0m\u001b[0mnew_inds\u001b[0m\u001b[0;34m)\u001b[0m\u001b[0;34m\u001b[0m\u001b[0;34m\u001b[0m\u001b[0m\n\u001b[0m\u001b[1;32m     24\u001b[0m \u001b[0;34m\u001b[0m\u001b[0m\n\u001b[1;32m     25\u001b[0m         \u001b[0mG1\u001b[0m \u001b[0;34m=\u001b[0m \u001b[0mcreate_Kruskal_MST\u001b[0m\u001b[0;34m(\u001b[0m\u001b[0mnew_corr\u001b[0m\u001b[0;34m,\u001b[0m \u001b[0mstocks\u001b[0m\u001b[0;34m)\u001b[0m\u001b[0;34m\u001b[0m\u001b[0;34m\u001b[0m\u001b[0m\n",
      "\u001b[0;32m~/PycharmProjects/SignProcedure/tools/data_transform.py\u001b[0m in \u001b[0;36mget_sign_matrix\u001b[0;34m(ret_inds)\u001b[0m\n\u001b[1;32m     49\u001b[0m     \u001b[0msign_matrix\u001b[0m\u001b[0;34m.\u001b[0m\u001b[0mappend\u001b[0m\u001b[0;34m(\u001b[0m\u001b[0;34m[\u001b[0m\u001b[0;34m]\u001b[0m\u001b[0;34m)\u001b[0m\u001b[0;34m\u001b[0m\u001b[0;34m\u001b[0m\u001b[0m\n\u001b[1;32m     50\u001b[0m     \u001b[0;32mfor\u001b[0m \u001b[0mj\u001b[0m \u001b[0;32min\u001b[0m \u001b[0mrange\u001b[0m\u001b[0;34m(\u001b[0m\u001b[0mlen\u001b[0m\u001b[0;34m(\u001b[0m\u001b[0mret_inds\u001b[0m\u001b[0;34m)\u001b[0m\u001b[0;34m)\u001b[0m\u001b[0;34m:\u001b[0m\u001b[0;34m\u001b[0m\u001b[0;34m\u001b[0m\u001b[0m\n\u001b[0;32m---> 51\u001b[0;31m       \u001b[0msign_matrix\u001b[0m\u001b[0;34m[\u001b[0m\u001b[0mi\u001b[0m\u001b[0;34m]\u001b[0m\u001b[0;34m.\u001b[0m\u001b[0mappend\u001b[0m\u001b[0;34m(\u001b[0m\u001b[0mget_sign_coef\u001b[0m\u001b[0;34m(\u001b[0m\u001b[0mret_inds\u001b[0m\u001b[0;34m[\u001b[0m\u001b[0mi\u001b[0m\u001b[0;34m]\u001b[0m\u001b[0;34m,\u001b[0m \u001b[0mret_inds\u001b[0m\u001b[0;34m[\u001b[0m\u001b[0mj\u001b[0m\u001b[0;34m]\u001b[0m\u001b[0;34m)\u001b[0m\u001b[0;34m)\u001b[0m\u001b[0;34m\u001b[0m\u001b[0;34m\u001b[0m\u001b[0m\n\u001b[0m\u001b[1;32m     52\u001b[0m   \u001b[0;32mreturn\u001b[0m \u001b[0msign_matrix\u001b[0m\u001b[0;34m\u001b[0m\u001b[0;34m\u001b[0m\u001b[0m\n\u001b[1;32m     53\u001b[0m \u001b[0;34m\u001b[0m\u001b[0m\n",
      "\u001b[0;32m~/PycharmProjects/SignProcedure/tools/data_transform.py\u001b[0m in \u001b[0;36mget_sign_coef\u001b[0;34m(ind_i, ind_j)\u001b[0m\n\u001b[1;32m     38\u001b[0m   \u001b[0mcount\u001b[0m \u001b[0;34m=\u001b[0m \u001b[0;36m0\u001b[0m\u001b[0;34m\u001b[0m\u001b[0;34m\u001b[0m\u001b[0m\n\u001b[1;32m     39\u001b[0m   \u001b[0;32mfor\u001b[0m \u001b[0mt\u001b[0m \u001b[0;32min\u001b[0m \u001b[0mrange\u001b[0m\u001b[0;34m(\u001b[0m\u001b[0mlen\u001b[0m\u001b[0;34m(\u001b[0m\u001b[0mind_i\u001b[0m\u001b[0;34m)\u001b[0m\u001b[0;34m)\u001b[0m\u001b[0;34m:\u001b[0m\u001b[0;34m\u001b[0m\u001b[0;34m\u001b[0m\u001b[0m\n\u001b[0;32m---> 40\u001b[0;31m     \u001b[0;32mif\u001b[0m \u001b[0;34m(\u001b[0m\u001b[0mind_i\u001b[0m\u001b[0;34m[\u001b[0m\u001b[0mt\u001b[0m\u001b[0;34m]\u001b[0m \u001b[0;34m==\u001b[0m \u001b[0mind_j\u001b[0m\u001b[0;34m[\u001b[0m\u001b[0mt\u001b[0m\u001b[0;34m]\u001b[0m\u001b[0;34m)\u001b[0m\u001b[0;34m:\u001b[0m\u001b[0;34m\u001b[0m\u001b[0;34m\u001b[0m\u001b[0m\n\u001b[0m\u001b[1;32m     41\u001b[0m       \u001b[0mcount\u001b[0m \u001b[0;34m+=\u001b[0m \u001b[0;36m1\u001b[0m\u001b[0;34m\u001b[0m\u001b[0;34m\u001b[0m\u001b[0m\n\u001b[1;32m     42\u001b[0m   \u001b[0;32mreturn\u001b[0m \u001b[0mcount\u001b[0m\u001b[0;34m\u001b[0m\u001b[0;34m\u001b[0m\u001b[0m\n",
      "\u001b[0;31mKeyboardInterrupt\u001b[0m: "
     ]
    }
   ],
   "source": [
    "for observ in [5, 10, 20, 100, 1000, 10000, 50000]:\n",
    "    print ('observ = {}, same = {}'.format(observ, compare_MSTs(ref_MST1, article_corr, observ, article_stocks, kind='Sign')))"
   ]
  },
  {
   "cell_type": "code",
   "execution_count": null,
   "metadata": {},
   "outputs": [],
   "source": [
    "corr = "
   ]
  },
  {
   "cell_type": "markdown",
   "metadata": {
    "colab_type": "text",
    "id": "6t4AODbKXDBp"
   },
   "source": [
    "### То же самое, но для матрицы корреляции, полученной из выкачанных с yahoo данных "
   ]
  },
  {
   "cell_type": "markdown",
   "metadata": {
    "colab_type": "text",
    "id": "VRGM-U4XZpqY"
   },
   "source": [
    "##### Получаем доходности 9 акций"
   ]
  },
  {
   "cell_type": "code",
   "execution_count": 54,
   "metadata": {
    "colab": {
     "base_uri": "https://localhost:8080/",
     "height": 71
    },
    "colab_type": "code",
    "id": "RhbeTN2fXGE9",
    "outputId": "06698702-9e0e-4ce7-9438-0d22d846ca5a"
   },
   "outputs": [
    {
     "name": "stdout",
     "output_type": "stream",
     "text": [
      "9\n"
     ]
    },
    {
     "data": {
      "text/plain": [
       "252"
      ]
     },
     "execution_count": 54,
     "metadata": {
      "tags": []
     },
     "output_type": "execute_result"
    }
   ],
   "source": [
    "returns = []\n",
    "for stock in data['Close']:\n",
    "  returns.append(get_returns(data['Close'][stock]))\n",
    "print(len(returns))\n",
    "len(returns[0])"
   ]
  },
  {
   "cell_type": "markdown",
   "metadata": {
    "colab_type": "text",
    "id": "QlERBaGuZu6W"
   },
   "source": [
    "##### Получаем матрицу корреляции этих доходностей"
   ]
  },
  {
   "cell_type": "code",
   "execution_count": 55,
   "metadata": {
    "colab": {
     "base_uri": "https://localhost:8080/",
     "height": 343
    },
    "colab_type": "code",
    "id": "FbN2cBFbY7St",
    "outputId": "f03e4285-d2dc-482b-f1e8-c29ce7b229a8"
   },
   "outputs": [
    {
     "data": {
      "text/plain": [
       "array([[1.        , 0.75469845, 0.48316114, 0.48070892, 0.66463948,\n",
       "        0.62522857, 0.62078544, 0.78750364, 0.78343383],\n",
       "       [0.75469845, 1.        , 0.45575762, 0.60256718, 0.67953151,\n",
       "        0.62264727, 0.67435238, 0.86658063, 0.86108024],\n",
       "       [0.48316114, 0.45575762, 1.        , 0.35831691, 0.38759264,\n",
       "        0.41819809, 0.41857366, 0.48025615, 0.49155804],\n",
       "       [0.48070892, 0.60256718, 0.35831691, 1.        , 0.45091271,\n",
       "        0.5025592 , 0.46677779, 0.6488523 , 0.66867308],\n",
       "       [0.66463948, 0.67953151, 0.38759264, 0.45091271, 1.        ,\n",
       "        0.54078982, 0.62224391, 0.73908196, 0.72558427],\n",
       "       [0.62522857, 0.62264727, 0.41819809, 0.5025592 , 0.54078982,\n",
       "        1.        , 0.58184976, 0.67233712, 0.6715842 ],\n",
       "       [0.62078544, 0.67435238, 0.41857366, 0.46677779, 0.62224391,\n",
       "        0.58184976, 1.        , 0.721803  , 0.71850341],\n",
       "       [0.78750364, 0.86658063, 0.48025615, 0.6488523 , 0.73908196,\n",
       "        0.67233712, 0.721803  , 1.        , 0.941782  ],\n",
       "       [0.78343383, 0.86108024, 0.49155804, 0.66867308, 0.72558427,\n",
       "        0.6715842 , 0.71850341, 0.941782  , 1.        ]])"
      ]
     },
     "execution_count": 55,
     "metadata": {
      "tags": []
     },
     "output_type": "execute_result"
    }
   ],
   "source": [
    "ref_corr = np.corrcoef(returns)\n",
    "ref_corr"
   ]
  },
  {
   "cell_type": "markdown",
   "metadata": {
    "colab_type": "text",
    "id": "3QqMXL2iZ2pr"
   },
   "source": [
    "##### Строим MST по полученной матрице корреляции"
   ]
  },
  {
   "cell_type": "code",
   "execution_count": 56,
   "metadata": {
    "colab": {
     "base_uri": "https://localhost:8080/",
     "height": 54
    },
    "colab_type": "code",
    "id": "frlwCB-QZIhz",
    "outputId": "ef04d949-1bc8-4b8d-a936-4f9e5961adb7"
   },
   "outputs": [
    {
     "data": {
      "image/png": "[encoded data removed]",
      "text/plain": [
       "<Figure size 432x288 with 1 Axes>"
      ]
     },
     "metadata": {
      "tags": []
     },
     "output_type": "display_data"
    }
   ],
   "source": [
    "ref_MST = create_Kruskal_MST(ref_corr, stocks_article)\n",
    "nx.draw(ref_MST, with_labels=True)"
   ]
  },
  {
   "cell_type": "code",
   "execution_count": 57,
   "metadata": {
    "colab": {
     "base_uri": "https://localhost:8080/",
     "height": 54
    },
    "colab_type": "code",
    "id": "TQSSw4NnZe8K",
    "outputId": "fddbdcab-7fdc-4540-931c-9f3645a62c70"
   },
   "outputs": [
    {
     "data": {
      "image/png": "[encoded data removed]",
      "text/plain": [
       "<Figure size 432x288 with 1 Axes>"
      ]
     },
     "metadata": {
      "tags": []
     },
     "output_type": "display_data"
    }
   ],
   "source": [
    "ref_MST = create_Prima_MST(ref_corr, stocks_article)\n",
    "nx.draw(ref_MST, with_labels=True)"
   ]
  },
  {
   "cell_type": "markdown",
   "metadata": {
    "colab_type": "text",
    "id": "UMtUJvmXaudn"
   },
   "source": [
    "##### Сравниваем истиное MST с симулированными MST, полученными при разных кол-вах наблюдений"
   ]
  },
  {
   "cell_type": "code",
   "execution_count": 0,
   "metadata": {
    "colab": {},
    "colab_type": "code",
    "id": "4tqMJAO_aH71"
   },
   "outputs": [],
   "source": [
    "# for observ in [5, 10, 20, 100, 1000, 10000, 50000]:\n",
    "#   print ('observ = {}, same = {}'.format(observ, compare_MSTs(ref_MST, ref_corr, observ, stocks_article)))"
   ]
  },
  {
   "cell_type": "markdown",
   "metadata": {
    "colab_type": "text",
    "id": "tO-tkh4vgeUv"
   },
   "source": [
    "### То же самое, но через гипотезы"
   ]
  },
  {
   "cell_type": "markdown",
   "metadata": {
    "colab_type": "text",
    "id": "wD7yT7UoK9do"
   },
   "source": [
    "##### Получаем индикаторы доходностей"
   ]
  },
  {
   "cell_type": "code",
   "execution_count": 59,
   "metadata": {
    "colab": {
     "base_uri": "https://localhost:8080/",
     "height": 51
    },
    "colab_type": "code",
    "id": "gW6mUFzAbYFa",
    "outputId": "11f389e1-2baa-4511-d25e-bd5b8ec3061a"
   },
   "outputs": [
    {
     "name": "stdout",
     "output_type": "stream",
     "text": [
      "252\n"
     ]
    },
    {
     "data": {
      "text/plain": [
       "(9, 252)"
      ]
     },
     "execution_count": 59,
     "metadata": {
      "tags": []
     },
     "output_type": "execute_result"
    }
   ],
   "source": [
    "ret_inds = get_inds_matrix(returns)\n",
    "print(len(ret_inds[0]))\n",
    "np.array(ret_inds).shape"
   ]
  },
  {
   "cell_type": "code",
   "execution_count": 60,
   "metadata": {
    "colab": {
     "base_uri": "https://localhost:8080/",
     "height": 319
    },
    "colab_type": "code",
    "id": "mjZlkSE01dPC",
    "outputId": "739324da-5b1d-44b8-f209-174c58775d25"
   },
   "outputs": [
    {
     "data": {
      "image/png": "[encoded data removed]",
      "text/plain": [
       "<Figure size 432x288 with 1 Axes>"
      ]
     },
     "metadata": {
      "tags": []
     },
     "output_type": "display_data"
    }
   ],
   "source": [
    "ref_MST = create_Prima_MST(np.corrcoef(returns), stocks_article)\n",
    "nx.draw(ref_MST, with_labels=True)"
   ]
  },
  {
   "cell_type": "code",
   "execution_count": 61,
   "metadata": {
    "colab": {
     "base_uri": "https://localhost:8080/",
     "height": 319
    },
    "colab_type": "code",
    "id": "EHHdmha40Yn2",
    "outputId": "5ed9ac38-b7ea-4a85-d222-cace01c2cdb0"
   },
   "outputs": [
    {
     "data": {
      "image/png": "[encoded data removed]",
      "text/plain": [
       "<Figure size 432x288 with 1 Axes>"
      ]
     },
     "metadata": {
      "tags": []
     },
     "output_type": "display_data"
    }
   ],
   "source": [
    "G = create_hypot_MST(ret_inds, stocks_article, 0.05)\n",
    "nx.draw(G, with_labels=True)"
   ]
  }
 ],
 "metadata": {
  "colab": {
   "name": "coursework.ipynb",
   "provenance": []
  },
  "kernelspec": {
   "display_name": "Python 3",
   "language": "python",
   "name": "python3"
  },
  "language_info": {
   "codemirror_mode": {
    "name": "ipython",
    "version": 3
   },
   "file_extension": ".py",
   "mimetype": "text/x-python",
   "name": "python",
   "nbconvert_exporter": "python",
   "pygments_lexer": "ipython3",
   "version": "3.7.4"
  },
  "pycharm": {
   "stem_cell": {
    "cell_type": "raw",
    "metadata": {
     "collapsed": false
    },
    "source": []
   }
  }
 },
 "nbformat": 4,
 "nbformat_minor": 1
}
