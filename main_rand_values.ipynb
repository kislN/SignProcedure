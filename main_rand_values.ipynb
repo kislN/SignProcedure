{
 "cells": [
  {
   "cell_type": "code",
   "execution_count": null,
   "metadata": {
    "colab": {
     "base_uri": "https://localhost:8080/",
     "height": 71
    },
    "colab_type": "code",
    "id": "SEiTGHzMLfvO",
    "outputId": "5b39ab21-b0f8-4a28-df4d-421bbff2f18a",
    "pycharm": {
     "is_executing": false
    }
   },
   "outputs": [],
   "source": [
    "import numpy as np \n",
    "import networkx as nx\n",
    "pd.core.common.is_list_like = pd.api.types.is_list_like \n",
    "\n",
    "from tools.comparisons import *\n",
    "from tools.data_transform import *\n",
    "from hypotheses.sign_statistics import *\n",
    "from hypotheses.sign_tests import *\n",
    "from distributions.multivariate_normal import get_norm_seq\n",
    "from distributions.multivariate_t import get_Student_seq\n"
   ]
  },
  {
   "cell_type": "code",
   "execution_count": 3,
   "metadata": {},
   "outputs": [],
   "source": [
    "stcks = ['a', 'b', 'c', 'd', 'e', 'f']\n",
    "corr = [[1, 0.5, 0, 0, 0, 0],\\\n",
    "        [0.5, 1, 0.5, 0, 0, 0],\\\n",
    "        [0, 0.5, 1, 0.5, 0, 0],\\\n",
    "        [0, 0, 0.5, 1, 0.5, 0],\\\n",
    "        [0, 0, 0, 0.5, 1, 0.5],\\\n",
    "        [0, 0, 0, 0, 0.5, 1]]"
   ]
  },
  {
   "cell_type": "code",
   "execution_count": 4,
   "metadata": {},
   "outputs": [
    {
     "data": {
      "text/plain": [
       "array([[1.        , 0.51243884, 0.03007048, 0.0056412 , 0.02592167,\n",
       "        0.02232585],\n",
       "       [0.51243884, 1.        , 0.50195845, 0.02633817, 0.03182497,\n",
       "        0.04334479],\n",
       "       [0.03007048, 0.50195845, 1.        , 0.54043062, 0.04203603,\n",
       "        0.05174323],\n",
       "       [0.0056412 , 0.02633817, 0.54043062, 1.        , 0.5235819 ,\n",
       "        0.04842294],\n",
       "       [0.02592167, 0.03182497, 0.04203603, 0.5235819 , 1.        ,\n",
       "        0.51550783],\n",
       "       [0.02232585, 0.04334479, 0.05174323, 0.04842294, 0.51550783,\n",
       "        1.        ]])"
      ]
     },
     "execution_count": 4,
     "metadata": {},
     "output_type": "execute_result"
    }
   ],
   "source": [
    "corr = np.corrcoef(get_norm_seq(corr, 1000))\n",
    "corr"
   ]
  },
  {
   "cell_type": "code",
   "execution_count": 5,
   "metadata": {},
   "outputs": [
    {
     "data": {
      "image/png": "[encoded data removed]",
      "text/plain": [
       "<Figure size 432x288 with 1 Axes>"
      ]
     },
     "metadata": {},
     "output_type": "display_data"
    }
   ],
   "source": [
    "ref_MST1 = create_Kruskal_MST(corr, stcks)\n",
    "nx.draw(ref_MST1, with_labels=True, node_color='lightgreen')"
   ]
  },
  {
   "cell_type": "code",
   "execution_count": 6,
   "metadata": {},
   "outputs": [
    {
     "data": {
      "image/png": "[encoded data removed]",
      "text/plain": [
       "<Figure size 432x288 with 1 Axes>"
      ]
     },
     "metadata": {},
     "output_type": "display_data"
    }
   ],
   "source": [
    "ref_MST2 = create_Prim_MST(corr, stcks)\n",
    "nx.draw(ref_MST2, with_labels=True, node_color='lightgreen')"
   ]
  },
  {
   "cell_type": "code",
   "execution_count": 11,
   "metadata": {},
   "outputs": [
    {
     "name": "stdout",
     "output_type": "stream",
     "text": [
      "observ = 5, same = 0.104\n",
      "observ = 10, same = 0.231\n",
      "observ = 20, same = 0.555\n",
      "observ = 100, same = 0.996\n",
      "observ = 200, same = 1.0\n",
      "observ = 1000, same = 1.0\n"
     ]
    }
   ],
   "source": [
    "for observ in [5, 10, 20, 100, 200, 1000]:\n",
    "    print ('observ = {}, same = {}'.format(observ, compare_MSTs(ref_MST1, corr, observ, stcks, measure='Pearson', distr='normal')))"
   ]
  },
  {
   "cell_type": "code",
   "execution_count": 12,
   "metadata": {},
   "outputs": [
    {
     "name": "stdout",
     "output_type": "stream",
     "text": [
      "observ = 5, same = 0.011\n",
      "observ = 10, same = 0.052\n",
      "observ = 20, same = 0.142\n",
      "observ = 100, same = 0.84\n",
      "observ = 200, same = 0.987\n",
      "observ = 1000, same = 1.0\n"
     ]
    }
   ],
   "source": [
    "for observ in [5, 10, 20, 100, 200, 1000]:\n",
    "    print ('observ = {}, same = {}'.format(observ, compare_MSTs(ref_MST1, corr, observ, stcks, measure='Sign', distr='normal')))"
   ]
  },
  {
   "cell_type": "code",
   "execution_count": 13,
   "metadata": {},
   "outputs": [
    {
     "name": "stdout",
     "output_type": "stream",
     "text": [
      "observ = 5, same = 0.077\n",
      "observ = 10, same = 0.091\n",
      "observ = 20, same = 0.116\n",
      "observ = 100, same = 0.161\n",
      "observ = 200, same = 0.162\n",
      "observ = 1000, same = 0.153\n"
     ]
    }
   ],
   "source": [
    "for observ in [5, 10, 20, 100, 200, 1000]:\n",
    "    print ('observ = {}, same = {}'.format(observ, compare_MSTs(ref_MST1, corr, observ, stcks, measure='Pearson', distr='Student', dof=1)))"
   ]
  },
  {
   "cell_type": "code",
   "execution_count": 14,
   "metadata": {},
   "outputs": [
    {
     "name": "stdout",
     "output_type": "stream",
     "text": [
      "observ = 5, same = 0.019\n",
      "observ = 10, same = 0.058\n",
      "observ = 20, same = 0.135\n",
      "observ = 100, same = 0.849\n",
      "observ = 200, same = 0.991\n",
      "observ = 1000, same = 1.0\n"
     ]
    }
   ],
   "source": [
    "for observ in [5, 10, 20, 100, 200, 1000]:\n",
    "    print ('observ = {}, same = {}'.format(observ, compare_MSTs(ref_MST1, corr, observ, stcks, measure='Sign', distr='Student', dof=1)))"
   ]
  },
  {
   "cell_type": "code",
   "execution_count": 15,
   "metadata": {},
   "outputs": [
    {
     "name": "stdout",
     "output_type": "stream",
     "text": [
      "observ = 5, same = 0.082\n",
      "observ = 10, same = 0.134\n",
      "observ = 20, same = 0.24\n",
      "observ = 100, same = 0.464\n",
      "observ = 200, same = 0.574\n",
      "observ = 1000, same = 0.703\n"
     ]
    }
   ],
   "source": [
    "for observ in [5, 10, 20, 100, 200, 1000]:\n",
    "    print ('observ = {}, same = {}'.format(observ, compare_MSTs(ref_MST1, corr, observ, stcks, measure='Pearson', distr='Student', dof=2)))"
   ]
  },
  {
   "cell_type": "code",
   "execution_count": 16,
   "metadata": {},
   "outputs": [
    {
     "name": "stdout",
     "output_type": "stream",
     "text": [
      "observ = 5, same = 0.015\n",
      "observ = 10, same = 0.05\n",
      "observ = 20, same = 0.147\n",
      "observ = 100, same = 0.85\n",
      "observ = 200, same = 0.988\n",
      "observ = 1000, same = 1.0\n"
     ]
    }
   ],
   "source": [
    "for observ in [5, 10, 20, 100, 200, 1000]:\n",
    "    print ('observ = {}, same = {}'.format(observ, compare_MSTs(ref_MST1, corr, observ, stcks, measure='Sign', distr='Student', dof=2)))"
   ]
  },
  {
   "cell_type": "code",
   "execution_count": 17,
   "metadata": {},
   "outputs": [
    {
     "name": "stdout",
     "output_type": "stream",
     "text": [
      "observ = 5, same = 0.112\n",
      "observ = 10, same = 0.167\n",
      "observ = 20, same = 0.3\n",
      "observ = 100, same = 0.759\n",
      "observ = 200, same = 0.85\n",
      "observ = 1000, same = 0.965\n"
     ]
    }
   ],
   "source": [
    "for observ in [5, 10, 20, 100, 200, 1000]:\n",
    "    print ('observ = {}, same = {}'.format(observ, compare_MSTs(ref_MST1, corr, observ, stcks, measure='Pearson', distr='Student', dof=3)))"
   ]
  },
  {
   "cell_type": "code",
   "execution_count": 18,
   "metadata": {},
   "outputs": [
    {
     "name": "stdout",
     "output_type": "stream",
     "text": [
      "observ = 5, same = 0.012\n",
      "observ = 10, same = 0.054\n",
      "observ = 20, same = 0.134\n",
      "observ = 100, same = 0.865\n",
      "observ = 200, same = 0.991\n",
      "observ = 1000, same = 1.0\n"
     ]
    }
   ],
   "source": [
    "for observ in [5, 10, 20, 100, 200, 1000]:\n",
    "    print ('observ = {}, same = {}'.format(observ, compare_MSTs(ref_MST1, corr, observ, stcks, measure='Sign', distr='Student', dof=3)))"
   ]
  },
  {
   "cell_type": "code",
   "execution_count": 7,
   "metadata": {},
   "outputs": [
    {
     "name": "stdout",
     "output_type": "stream",
     "text": [
      "observ = 5, same = 0.106\n",
      "observ = 10, same = 0.192\n",
      "observ = 20, same = 0.388\n",
      "observ = 100, same = 0.88\n",
      "observ = 200, same = 0.969\n",
      "observ = 1000, same = 0.992\n"
     ]
    }
   ],
   "source": [
    "for observ in [5, 10, 20, 100, 200, 1000]:\n",
    "    print ('observ = {}, same = {}'.format(observ, compare_MSTs(ref_MST1, corr, observ, stcks, measure='Pearson', distr='Student', dof=4)))"
   ]
  },
  {
   "cell_type": "code",
   "execution_count": 8,
   "metadata": {},
   "outputs": [
    {
     "name": "stdout",
     "output_type": "stream",
     "text": [
      "observ = 5, same = 0.016\n",
      "observ = 10, same = 0.051\n",
      "observ = 20, same = 0.152\n",
      "observ = 100, same = 0.86\n",
      "observ = 200, same = 0.997\n",
      "observ = 1000, same = 1.0\n"
     ]
    }
   ],
   "source": [
    "for observ in [5, 10, 20, 100, 200, 1000]:\n",
    "    print ('observ = {}, same = {}'.format(observ, compare_MSTs(ref_MST1, corr, observ, stcks, measure='Sign', distr='Student', dof=4)))"
   ]
  },
  {
   "cell_type": "markdown",
   "metadata": {
    "colab_type": "text",
    "id": "B16NSqxf3IP4"
   },
   "source": [
    "#### Генерация случайных последовательностей из нормального распределния с данной матрицей корреляции и нулевым вектором математетического ожидания, построение MST по новым СВ и сравнение его с истиным MST"
   ]
  },
  {
   "cell_type": "code",
   "execution_count": 24,
   "metadata": {},
   "outputs": [
    {
     "data": {
      "text/plain": [
       "array([[ 1.        ,  0.54553809, -0.01876853, -0.01788935,  0.0236392 ,\n",
       "         0.0402324 ],\n",
       "       [ 0.54553809,  1.        ,  0.47642481, -0.01268385,  0.03902735,\n",
       "         0.01081176],\n",
       "       [-0.01876853,  0.47642481,  1.        ,  0.50129464,  0.02993511,\n",
       "         0.00416427],\n",
       "       [-0.01788935, -0.01268385,  0.50129464,  1.        ,  0.51193372,\n",
       "         0.06622339],\n",
       "       [ 0.0236392 ,  0.03902735,  0.02993511,  0.51193372,  1.        ,\n",
       "         0.53239394],\n",
       "       [ 0.0402324 ,  0.01081176,  0.00416427,  0.06622339,  0.53239394,\n",
       "         1.        ]])"
      ]
     },
     "execution_count": 24,
     "metadata": {},
     "output_type": "execute_result"
    }
   ],
   "source": [
    "stcks = ['a', 'b', 'c', 'd', 'e', 'f']\n",
    "corr = [[1, 0.5, 0, 0, 0, 0],\\\n",
    "        [0.5, 1, 0.5, 0, 0, 0],\\\n",
    "        [0, 0.5, 1, 0.5, 0, 0],\\\n",
    "        [0, 0, 0.5, 1, 0.5, 0],\\\n",
    "        [0, 0, 0, 0.5, 1, 0.5],\\\n",
    "        [0, 0, 0, 0, 0.5, 1]]\n",
    "\n",
    "corr = np.corrcoef(get_norm_seq(corr, 1000))\n",
    "corr"
   ]
  },
  {
   "cell_type": "code",
   "execution_count": 35,
   "metadata": {
    "colab": {
     "base_uri": "https://localhost:8080/",
     "height": 336
    },
    "colab_type": "code",
    "id": "W8QwB02BsgxK",
    "outputId": "7cc66362-94e1-4e3d-8cac-fedc86321f86"
   },
   "outputs": [
    {
     "name": "stdout",
     "output_type": "stream",
     "text": [
      "True\n"
     ]
    },
    {
     "data": {
      "image/png": "[encoded data removed]",
      "text/plain": [
       "<Figure size 432x288 with 1 Axes>"
      ]
     },
     "metadata": {},
     "output_type": "display_data"
    }
   ],
   "source": [
    "ref_MST1 = create_Kruskal_MST(corr, stcks)\n",
    "\n",
    "ref_MST2 = create_Prim_MST(corr, stcks)\n",
    "\n",
    "print(sorted(ref_MST1.degree) == sorted(ref_MST2.degree))\n",
    "nx.draw(ref_MST2, with_labels=True, node_color='lightgreen')\n"
   ]
  },
  {
   "cell_type": "code",
   "execution_count": 98,
   "metadata": {
    "colab": {
     "base_uri": "https://localhost:8080/",
     "height": 421
    },
    "colab_type": "code",
    "id": "1KpJaLt2tH8H",
    "outputId": "db08ae43-9c6e-4c28-83b8-dfacd9c1afbb"
   },
   "outputs": [
    {
     "name": "stdout",
     "output_type": "stream",
     "text": [
      "[[ 1.          0.49217462 -0.15820548  0.07388598  0.1411141   0.0442144 ]\n",
      " [ 0.49217462  1.          0.37885281  0.00792332  0.18221169  0.05037662]\n",
      " [-0.15820548  0.37885281  1.          0.50688949  0.07935423 -0.02482466]\n",
      " [ 0.07388598  0.00792332  0.50688949  1.          0.50256728  0.08388223]\n",
      " [ 0.1411141   0.18221169  0.07935423  0.50256728  1.          0.62596064]\n",
      " [ 0.0442144   0.05037662 -0.02482466  0.08388223  0.62596064  1.        ]]\n"
     ]
    },
    {
     "data": {
      "image/png": "[encoded data removed]",
      "text/plain": [
       "<Figure size 432x288 with 1 Axes>"
      ]
     },
     "metadata": {},
     "output_type": "display_data"
    }
   ],
   "source": [
    "new_rets = get_norm_seq(corr, 100)\n",
    "new_inds = get_inds_matrix(new_rets)\n",
    "\n",
    "print(np.corrcoef(new_rets))\n",
    "\n",
    "G = create_Prim_hypot_MST(new_inds, stcks, 0.1)\n",
    "nx.draw(G, with_labels=True, node_color='lightgreen')"
   ]
  },
  {
   "cell_type": "code",
   "execution_count": 76,
   "metadata": {
    "colab": {
     "base_uri": "https://localhost:8080/",
     "height": 421
    },
    "colab_type": "code",
    "id": "9-LtEq2Qbule",
    "outputId": "28da08c8-568b-48c2-c60b-59cbc13bc5d3"
   },
   "outputs": [
    {
     "name": "stdout",
     "output_type": "stream",
     "text": [
      "[[ 1.          0.50309308  0.02624538  0.08503791  0.19023782  0.08211148]\n",
      " [ 0.50309308  1.          0.38872631  0.00774981  0.10412901 -0.02709614]\n",
      " [ 0.02624538  0.38872631  1.          0.53128088  0.01455224 -0.0431596 ]\n",
      " [ 0.08503791  0.00774981  0.53128088  1.          0.52045143 -0.03155902]\n",
      " [ 0.19023782  0.10412901  0.01455224  0.52045143  1.          0.55547817]\n",
      " [ 0.08211148 -0.02709614 -0.0431596  -0.03155902  0.55547817  1.        ]]\n"
     ]
    },
    {
     "data": {
      "image/png": "[encoded data removed]",
      "text/plain": [
       "<Figure size 432x288 with 1 Axes>"
      ]
     },
     "metadata": {
      "tags": []
     },
     "output_type": "display_data"
    }
   ],
   "source": [
    "print(np.corrcoef(new_rets))\n",
    "\n",
    "G = create_hypot_MST(new_inds, stcks, 0.1, kind_of_test='complex_rand')\n",
    "nx.draw(G, with_labels=True, node_color='lightgreen')"
   ]
  },
  {
   "cell_type": "code",
   "execution_count": 77,
   "metadata": {
    "colab": {
     "base_uri": "https://localhost:8080/",
     "height": 319
    },
    "colab_type": "code",
    "id": "s69pg2ymb4J5",
    "outputId": "1fb66515-35cc-4dbe-d667-e34adda3cdba"
   },
   "outputs": [
    {
     "data": {
      "image/png": "[encoded data removed]",
      "text/plain": [
       "<Figure size 432x288 with 1 Axes>"
      ]
     },
     "metadata": {
      "tags": []
     },
     "output_type": "display_data"
    }
   ],
   "source": [
    "G = create_hypot_MST(new_inds, stcks, 0.1, kind_of_test='complex_max')\n",
    "nx.draw(G, with_labels=True, node_color='lightgreen')"
   ]
  },
  {
   "cell_type": "markdown",
   "metadata": {
    "colab_type": "text",
    "id": "sMsMss_z1YM-"
   },
   "source": [
    "##### Compare procedures\n"
   ]
  },
  {
   "cell_type": "code",
   "execution_count": 80,
   "metadata": {
    "colab": {
     "base_uri": "https://localhost:8080/",
     "height": 255
    },
    "colab_type": "code",
    "id": "7l9hKqQZj5n9",
    "outputId": "b5ee7be8-5691-4a77-c5ae-159de6e65078"
   },
   "outputs": [
    {
     "name": "stdout",
     "output_type": "stream",
     "text": [
      "alpha =  0.1\n",
      "observations number = 100 \n",
      "       rate of the same: \n",
      "       procedure of correlation: 1.0 \n",
      "       simple hypothetical procedure: 0.285 \n",
      "       complex (rand) hypothetical procedure: 0.343 \n",
      "       complex (max) hypothetical procedure: 0.226\n",
      "alpha =  0.05\n",
      "observations number = 100 \n",
      "       rate of the same: \n",
      "       procedure of correlation: 0.998 \n",
      "       simple hypothetical procedure: 0.116 \n",
      "       complex (rand) hypothetical procedure: 0.171 \n",
      "       complex (max) hypothetical procedure: 0.075\n"
     ]
    }
   ],
   "source": [
    "compare_procedures(ref_MST1, 1000, alphas=[0.1, 0.05])"
   ]
  },
  {
   "cell_type": "markdown",
   "metadata": {
    "colab_type": "text",
    "id": "0RN_YjP41m9k"
   },
   "source": [
    "##### Continue"
   ]
  },
  {
   "cell_type": "code",
   "execution_count": 105,
   "metadata": {},
   "outputs": [
    {
     "data": {
      "text/plain": [
       "array([[ 1.        ,  0.39642882,  0.42914849,  0.4096508 ,  0.38071016,\n",
       "         0.39235979],\n",
       "       [ 0.39642882,  1.        ,  0.01667509,  0.01108808, -0.01209208,\n",
       "         0.03646753],\n",
       "       [ 0.42914849,  0.01667509,  1.        , -0.01124587,  0.04733709,\n",
       "         0.01561915],\n",
       "       [ 0.4096508 ,  0.01108808, -0.01124587,  1.        , -0.03751969,\n",
       "        -0.03019067],\n",
       "       [ 0.38071016, -0.01209208,  0.04733709, -0.03751969,  1.        ,\n",
       "        -0.04071938],\n",
       "       [ 0.39235979,  0.03646753,  0.01561915, -0.03019067, -0.04071938,\n",
       "         1.        ]])"
      ]
     },
     "execution_count": 105,
     "metadata": {},
     "output_type": "execute_result"
    }
   ],
   "source": [
    "stcks = ['a', 'b', 'c', 'd', 'e', 'f']\n",
    "corr = [[1, 0.4, 0.4, 0.4, 0.4, 0.4],\\\n",
    "        [0.4, 1, 0, 0, 0, 0],\\\n",
    "        [0.4, 0, 1, 0, 0, 0],\\\n",
    "        [0.4, 0, 0, 1, 0, 0],\\\n",
    "        [0.4, 0, 0, 0, 1, 0],\\\n",
    "        [0.4, 0, 0, 0, 0, 1]]\n",
    "\n",
    "corr = np.corrcoef(get_norm_seq(corr, 1000))\n",
    "corr"
   ]
  },
  {
   "cell_type": "code",
   "execution_count": 106,
   "metadata": {
    "colab": {
     "base_uri": "https://localhost:8080/",
     "height": 336
    },
    "colab_type": "code",
    "id": "yRBQg8LStPPI",
    "outputId": "c0b59c8a-283d-4b46-dd06-5b43a6a58294"
   },
   "outputs": [
    {
     "name": "stdout",
     "output_type": "stream",
     "text": [
      "True\n"
     ]
    },
    {
     "data": {
      "image/png": "[encoded data removed]",
      "text/plain": [
       "<Figure size 432x288 with 1 Axes>"
      ]
     },
     "metadata": {},
     "output_type": "display_data"
    }
   ],
   "source": [
    "ref_MST1 = create_Kruskal_MST(corr, stcks)\n",
    "\n",
    "ref_MST2 = create_Prim_MST(corr, stcks)\n",
    "\n",
    "print(sorted(ref_MST1.degree) == sorted(ref_MST2.degree))\n",
    "nx.draw(ref_MST2, with_labels=True, node_color='lightgreen')\n"
   ]
  },
  {
   "cell_type": "code",
   "execution_count": 137,
   "metadata": {
    "colab": {
     "base_uri": "https://localhost:8080/",
     "height": 421
    },
    "colab_type": "code",
    "id": "UN5Z1pxuxckk",
    "outputId": "1868a9fb-7609-4807-a259-d7e3863f8109"
   },
   "outputs": [
    {
     "name": "stdout",
     "output_type": "stream",
     "text": [
      "[[ 1.          0.45321349  0.31646235  0.37859746  0.46475053  0.27088343]\n",
      " [ 0.45321349  1.          0.1317517  -0.12576714  0.0760405  -0.00814774]\n",
      " [ 0.31646235  0.1317517   1.         -0.15363147 -0.10916006 -0.04615368]\n",
      " [ 0.37859746 -0.12576714 -0.15363147  1.          0.20654125 -0.15234482]\n",
      " [ 0.46475053  0.0760405  -0.10916006  0.20654125  1.         -0.1724195 ]\n",
      " [ 0.27088343 -0.00814774 -0.04615368 -0.15234482 -0.1724195   1.        ]]\n"
     ]
    },
    {
     "data": {
      "image/png": "[encoded data removed]",
      "text/plain": [
       "<Figure size 432x288 with 1 Axes>"
      ]
     },
     "metadata": {},
     "output_type": "display_data"
    }
   ],
   "source": [
    "new_rets = get_norm_seq(corr, 100)\n",
    "new_inds = get_inds_matrix(new_rets)\n",
    "\n",
    "print(np.corrcoef(new_rets))\n",
    "\n",
    "G = create_Prim_hypot_MST(new_inds, stcks, 0.1)\n",
    "nx.draw(G, with_labels=True, node_color='lightgreen')"
   ]
  },
  {
   "cell_type": "code",
   "execution_count": 139,
   "metadata": {},
   "outputs": [
    {
     "data": {
      "image/png": "[encoded data removed]",
      "text/plain": [
       "<Figure size 432x288 with 1 Axes>"
      ]
     },
     "metadata": {},
     "output_type": "display_data"
    }
   ],
   "source": [
    "G = nx.Graph()\n",
    "G.add_edge('a', 'e')\n",
    "G.add_edge('a', 'd')\n",
    "G.add_edge('a', 'f')\n",
    "G.add_edge('f', 'c')\n",
    "G.add_edge('d', 'b')\n",
    "nx.draw(G, with_labels=True, node_color='lightgreen')"
   ]
  },
  {
   "cell_type": "code",
   "execution_count": 113,
   "metadata": {
    "colab": {
     "base_uri": "https://localhost:8080/",
     "height": 421
    },
    "colab_type": "code",
    "id": "DEcpb6JxqVUN",
    "outputId": "0ddbd94c-b1f4-48b6-b036-b2e670635f15"
   },
   "outputs": [
    {
     "name": "stdout",
     "output_type": "stream",
     "text": [
      "[[ 1.          0.32678597  0.34946424  0.40409597  0.33751896  0.4704358 ]\n",
      " [ 0.32678597  1.         -0.13202021  0.17038271 -0.22666064  0.0090964 ]\n",
      " [ 0.34946424 -0.13202021  1.         -0.08902569  0.05331283  0.04442181]\n",
      " [ 0.40409597  0.17038271 -0.08902569  1.         -0.0694704  -0.14299995]\n",
      " [ 0.33751896 -0.22666064  0.05331283 -0.0694704   1.          0.05521075]\n",
      " [ 0.4704358   0.0090964   0.04442181 -0.14299995  0.05521075  1.        ]]\n"
     ]
    },
    {
     "ename": "NameError",
     "evalue": "name 'create_hypot_MST' is not defined",
     "output_type": "error",
     "traceback": [
      "\u001b[0;31m---------------------------------------------------------------------------\u001b[0m",
      "\u001b[0;31mNameError\u001b[0m                                 Traceback (most recent call last)",
      "\u001b[0;32m<ipython-input-113-bb4d06f40131>\u001b[0m in \u001b[0;36m<module>\u001b[0;34m\u001b[0m\n\u001b[1;32m      1\u001b[0m \u001b[0mprint\u001b[0m\u001b[0;34m(\u001b[0m\u001b[0mnp\u001b[0m\u001b[0;34m.\u001b[0m\u001b[0mcorrcoef\u001b[0m\u001b[0;34m(\u001b[0m\u001b[0mnew_rets\u001b[0m\u001b[0;34m)\u001b[0m\u001b[0;34m)\u001b[0m\u001b[0;34m\u001b[0m\u001b[0;34m\u001b[0m\u001b[0m\n\u001b[1;32m      2\u001b[0m \u001b[0;34m\u001b[0m\u001b[0m\n\u001b[0;32m----> 3\u001b[0;31m \u001b[0mG\u001b[0m \u001b[0;34m=\u001b[0m \u001b[0mcreate_hypot_MST\u001b[0m\u001b[0;34m(\u001b[0m\u001b[0mnew_inds\u001b[0m\u001b[0;34m,\u001b[0m \u001b[0mstcks\u001b[0m\u001b[0;34m,\u001b[0m \u001b[0;36m0.15\u001b[0m\u001b[0;34m,\u001b[0m \u001b[0mkind_of_test\u001b[0m\u001b[0;34m=\u001b[0m\u001b[0;34m'complex_rand'\u001b[0m\u001b[0;34m)\u001b[0m\u001b[0;34m\u001b[0m\u001b[0;34m\u001b[0m\u001b[0m\n\u001b[0m\u001b[1;32m      4\u001b[0m \u001b[0mnx\u001b[0m\u001b[0;34m.\u001b[0m\u001b[0mdraw\u001b[0m\u001b[0;34m(\u001b[0m\u001b[0mG\u001b[0m\u001b[0;34m,\u001b[0m \u001b[0mwith_labels\u001b[0m\u001b[0;34m=\u001b[0m\u001b[0;32mTrue\u001b[0m\u001b[0;34m,\u001b[0m \u001b[0mnode_color\u001b[0m\u001b[0;34m=\u001b[0m\u001b[0;34m'lightgreen'\u001b[0m\u001b[0;34m)\u001b[0m\u001b[0;34m\u001b[0m\u001b[0;34m\u001b[0m\u001b[0m\n",
      "\u001b[0;31mNameError\u001b[0m: name 'create_hypot_MST' is not defined"
     ]
    }
   ],
   "source": [
    "print(np.corrcoef(new_rets))\n",
    "\n",
    "G = create_hypot_MST(new_inds, stcks, 0.15, kind_of_test='complex_rand')\n",
    "nx.draw(G, with_labels=True, node_color='lightgreen')"
   ]
  },
  {
   "cell_type": "code",
   "execution_count": 84,
   "metadata": {
    "colab": {
     "base_uri": "https://localhost:8080/",
     "height": 421
    },
    "colab_type": "code",
    "id": "jpEc4IhcqWZR",
    "outputId": "63c26ff8-6bf1-47fe-9c07-e45dce5b334d"
   },
   "outputs": [
    {
     "name": "stdout",
     "output_type": "stream",
     "text": [
      "[[ 1.          0.41244269  0.36145384  0.29177373  0.41903777  0.45604584]\n",
      " [ 0.41244269  1.          0.03665534 -0.02150926 -0.06745997 -0.02678325]\n",
      " [ 0.36145384  0.03665534  1.         -0.18445846  0.05544319  0.21929171]\n",
      " [ 0.29177373 -0.02150926 -0.18445846  1.         -0.03854574 -0.1076604 ]\n",
      " [ 0.41903777 -0.06745997  0.05544319 -0.03854574  1.          0.04676406]\n",
      " [ 0.45604584 -0.02678325  0.21929171 -0.1076604   0.04676406  1.        ]]\n"
     ]
    },
    {
     "data": {
      "image/png": "[encoded data removed]",
      "text/plain": [
       "<Figure size 432x288 with 1 Axes>"
      ]
     },
     "metadata": {
      "tags": []
     },
     "output_type": "display_data"
    }
   ],
   "source": [
    "print(np.corrcoef(new_rets))\n",
    "\n",
    "G = create_hypot_MST(new_inds, stcks, 0.15, kind_of_test='complex_max')\n",
    "nx.draw(G, with_labels=True, node_color='lightgreen')\n"
   ]
  },
  {
   "cell_type": "markdown",
   "metadata": {
    "colab_type": "text",
    "id": "KOf-cCzt1xlP"
   },
   "source": [
    "##### Compare procedures"
   ]
  },
  {
   "cell_type": "code",
   "execution_count": 85,
   "metadata": {
    "colab": {
     "base_uri": "https://localhost:8080/",
     "height": 255
    },
    "colab_type": "code",
    "id": "RBWMpGBuq0fQ",
    "outputId": "6461edae-5713-4bb0-ad74-066aeaa2a703"
   },
   "outputs": [
    {
     "name": "stdout",
     "output_type": "stream",
     "text": [
      "alpha =  0.1\n",
      "observations number = 100 \n",
      "       rate of the same: \n",
      "       procedure of correlation: 0.998 \n",
      "       simple hypothetical procedure: 0.032 \n",
      "       complex (rand) hypothetical procedure: 0.098 \n",
      "       complex (max) hypothetical procedure: 0.014\n",
      "alpha =  0.05\n",
      "observations number = 100 \n",
      "       rate of the same: \n",
      "       procedure of correlation: 0.999 \n",
      "       simple hypothetical procedure: 0.003 \n",
      "       complex (rand) hypothetical procedure: 0.048 \n",
      "       complex (max) hypothetical procedure: 0.001\n"
     ]
    }
   ],
   "source": [
    "compare_procedures(ref_MST1, 1000, alphas=[0.1, 0.05])"
   ]
  },
  {
   "cell_type": "markdown",
   "metadata": {
    "colab_type": "text",
    "id": "MCdzMaoZ10-s"
   },
   "source": [
    "##### Continue"
   ]
  },
  {
   "cell_type": "code",
   "execution_count": 141,
   "metadata": {
    "colab": {
     "base_uri": "https://localhost:8080/",
     "height": 336
    },
    "colab_type": "code",
    "id": "_pFOAuquZpcX",
    "outputId": "56d9ecc7-eb21-4ee3-b142-76b159525412"
   },
   "outputs": [
    {
     "name": "stdout",
     "output_type": "stream",
     "text": [
      "True\n"
     ]
    },
    {
     "data": {
      "image/png": "[encoded data removed]",
      "text/plain": [
       "<Figure size 432x288 with 1 Axes>"
      ]
     },
     "metadata": {},
     "output_type": "display_data"
    }
   ],
   "source": [
    "corr = [[1.0000, 0.7220, 0.4681, 0.4809, 0.6209, 0.5380, 0.6252, 0.6285, 0.7786, 0.7909], \\\n",
    "        [0.7220, 1.0000, 0.4395, 0.5979, 0.6381, 0.5725, 0.6666, 0.6266, 0.8583, 0.8640], \\\n",
    "        [0.4681, 0.4395, 1.0000, 0.3432, 0.3468, 0.2740, 0.4090, 0.4016, 0.4615, 0.4832], \\\n",
    "        [0.4809, 0.5979, 0.3432, 1.0000, 0.4518, 0.4460, 0.4635, 0.4940, 0.6447, 0.6601], \\\n",
    "        [0.6209, 0.6381, 0.3468, 0.4518, 1.0000, 0.5640, 0.5994, 0.5369, 0.7170, 0.7136], \\\n",
    "        [0.5380, 0.5725, 0.2740, 0.4460, 0.5640, 1.0000, 0.4969, 0.4775, 0.6439, 0.6242], \\\n",
    "        [0.6252, 0.6666, 0.4090, 0.4635, 0.5994, 0.4969, 1.0000, 0.6098, 0.7161, 0.7158], \\\n",
    "        [0.6285, 0.6266, 0.4016, 0.4940, 0.5369, 0.4775, 0.6098, 1.0000, 0.6805, 0.6748], \\\n",
    "        [0.7786, 0.8583, 0.4615, 0.6447, 0.7170, 0.6439, 0.7161, 0.6805, 1.0000, 0.9523], \\\n",
    "        [0.7909, 0.8640, 0.4832, 0.6601, 0.7136, 0.6242, 0.7158, 0.6748, 0.9523, 1.0000]]\n",
    "\n",
    "stcks = ['A', 'AA', 'AAP', 'AAPL', 'AAWW', 'ABAX', 'ACCO', 'ABG', 'ACWI', 'ADX']\n",
    "\n",
    "ref_MST1 = create_Kruskal_MST(corr, stcks)\n",
    "\n",
    "ref_MST2 = create_Prim_MST(corr, stcks)\n",
    "\n",
    "print(sorted(ref_MST1.degree) == sorted(ref_MST2.degree))\n",
    "nx.draw(ref_MST2, with_labels=True, node_color='lightgreen')"
   ]
  },
  {
   "cell_type": "code",
   "execution_count": 149,
   "metadata": {
    "colab": {},
    "colab_type": "code",
    "id": "VusbJLS6rtUz"
   },
   "outputs": [
    {
     "name": "stdout",
     "output_type": "stream",
     "text": [
      "[[1.         0.73920708 0.46685806 0.495204   0.62439867 0.4595344\n",
      "  0.61234879 0.60863863 0.78985027 0.80112362]\n",
      " [0.73920708 1.         0.46453513 0.62315776 0.68290742 0.63259896\n",
      "  0.64074354 0.66174907 0.90087907 0.88442963]\n",
      " [0.46685806 0.46453513 1.         0.45092475 0.31135524 0.19603418\n",
      "  0.32458315 0.53090008 0.49423077 0.49099396]\n",
      " [0.495204   0.62315776 0.45092475 1.         0.47207    0.45484354\n",
      "  0.57901854 0.53292897 0.6801327  0.67533177]\n",
      " [0.62439867 0.68290742 0.31135524 0.47207    1.         0.63396453\n",
      "  0.52616061 0.54996333 0.73131116 0.73429099]\n",
      " [0.4595344  0.63259896 0.19603418 0.45484354 0.63396453 1.\n",
      "  0.4801786  0.36583879 0.60835093 0.60471249]\n",
      " [0.61234879 0.64074354 0.32458315 0.57901854 0.52616061 0.4801786\n",
      "  1.         0.59640972 0.67424916 0.68010081]\n",
      " [0.60863863 0.66174907 0.53090008 0.53292897 0.54996333 0.36583879\n",
      "  0.59640972 1.         0.71230993 0.70199291]\n",
      " [0.78985027 0.90087907 0.49423077 0.6801327  0.73131116 0.60835093\n",
      "  0.67424916 0.71230993 1.         0.95566442]\n",
      " [0.80112362 0.88442963 0.49099396 0.67533177 0.73429099 0.60471249\n",
      "  0.68010081 0.70199291 0.95566442 1.        ]]\n"
     ]
    },
    {
     "data": {
      "image/png": "[encoded data removed]",
      "text/plain": [
       "<Figure size 432x288 with 1 Axes>"
      ]
     },
     "metadata": {},
     "output_type": "display_data"
    }
   ],
   "source": [
    "new_rets = get_norm_seq(corr, 100)\n",
    "new_inds = get_inds_matrix(new_rets)\n",
    "\n",
    "print(np.corrcoef(new_rets))\n",
    "\n",
    "G = create_Prim_hypot_MST(new_inds, stcks, 0.15)\n",
    "nx.draw(G, with_labels=True, node_color='lightgreen')"
   ]
  },
  {
   "cell_type": "code",
   "execution_count": 0,
   "metadata": {
    "colab": {},
    "colab_type": "code",
    "id": "DBDcfPPhrxnC"
   },
   "outputs": [],
   "source": [
    "print(np.corrcoef(new_rets))\n",
    "\n",
    "G = create_hypot_MST(new_inds, stcks, 0.15, kind_of_test='complex_rand')\n",
    "nx.draw(G, with_labels=True)"
   ]
  },
  {
   "cell_type": "code",
   "execution_count": 0,
   "metadata": {
    "colab": {},
    "colab_type": "code",
    "id": "SyEneUfHr1NK"
   },
   "outputs": [],
   "source": [
    "print(np.corrcoef(new_rets))\n",
    "\n",
    "G = create_hypot_MST(new_inds, stcks, 0.15, kind_of_test='complex_max')\n",
    "nx.draw(G, with_labels=True)"
   ]
  },
  {
   "cell_type": "markdown",
   "metadata": {
    "colab_type": "text",
    "id": "1f9Yr_9O17M2"
   },
   "source": [
    "###### Compare procedures"
   ]
  },
  {
   "cell_type": "code",
   "execution_count": 73,
   "metadata": {
    "colab": {
     "base_uri": "https://localhost:8080/",
     "height": 255
    },
    "colab_type": "code",
    "id": "AxRHAzOTr9kF",
    "outputId": "6fa33326-ea4c-4373-8de5-941040fa58c8"
   },
   "outputs": [
    {
     "name": "stdout",
     "output_type": "stream",
     "text": [
      "alpha =  0.1\n",
      "observations number = 100 \n",
      "       rate of the same: \n",
      "       procedure of correlation: 0.068 \n",
      "       simple hypothetical procedure: 0.0 \n",
      "       complex (rand) hypothetical procedure: 0.0 \n",
      "       complex (max) hypothetical procedure: 0.0\n",
      "alpha =  0.05\n",
      "observations number = 100 \n",
      "       rate of the same: \n",
      "       procedure of correlation: 0.066 \n",
      "       simple hypothetical procedure: 0.0 \n",
      "       complex (rand) hypothetical procedure: 0.0 \n",
      "       complex (max) hypothetical procedure: 0.0\n"
     ]
    }
   ],
   "source": [
    "compare_procedures(ref_MST1, 1000, alphas=[0.1, 0.05])"
   ]
  },
  {
   "cell_type": "markdown",
   "metadata": {},
   "source": [
    "5 - 2"
   ]
  },
  {
   "cell_type": "code",
   "execution_count": null,
   "metadata": {},
   "outputs": [],
   "source": []
  }
 ],
 "metadata": {
  "colab": {
   "name": "coursework.ipynb",
   "provenance": []
  },
  "kernelspec": {
   "display_name": "Python 3",
   "language": "python",
   "name": "python3"
  },
  "language_info": {
   "codemirror_mode": {
    "name": "ipython",
    "version": 3
   },
   "file_extension": ".py",
   "mimetype": "text/x-python",
   "name": "python",
   "nbconvert_exporter": "python",
   "pygments_lexer": "ipython3",
   "version": "3.7.4"
  },
  "pycharm": {
   "stem_cell": {
    "cell_type": "raw",
    "metadata": {
     "collapsed": false
    },
    "source": []
   }
  }
 },
 "nbformat": 4,
 "nbformat_minor": 1
}
