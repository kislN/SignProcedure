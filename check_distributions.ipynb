{
 "cells": [
  {
   "cell_type": "code",
   "execution_count": 1,
   "metadata": {},
   "outputs": [],
   "source": [
    "import numpy as np\n",
    "from distributions.multivariate_t import get_Student_seq, get_t_seq\n",
    "from distributions.multivariate_normal import get_norm_seq\n",
    "import matplotlib.pyplot as plt"
   ]
  },
  {
   "cell_type": "code",
   "execution_count": 2,
   "metadata": {},
   "outputs": [],
   "source": [
    "stcks = ['a', 'b', 'c', 'd', 'e', 'f']\n",
    "corr = [[1, 0.5, 0, 0, 0, 0],\\\n",
    "        [0.5, 1, 0.5, 0, 0, 0],\\\n",
    "        [0, 0.5, 1, 0.5, 0, 0],\\\n",
    "        [0, 0, 0.5, 1, 0.5, 0],\\\n",
    "        [0, 0, 0, 0.5, 1, 0.5],\\\n",
    "        [0, 0, 0, 0, 0.5, 1]]"
   ]
  },
  {
   "cell_type": "code",
   "execution_count": 4,
   "metadata": {},
   "outputs": [],
   "source": [
    "a = get_t_seq(corr, 10, 1000)\n",
    "b = get_Student_seq(corr, 10, 1000)\n",
    "norm = get_norm_seq(corr, 1000)"
   ]
  },
  {
   "cell_type": "code",
   "execution_count": 6,
   "metadata": {},
   "outputs": [
    {
     "data": {
      "image/png": "[encoded data removed]",
      "text/plain": [
       "<Figure size 432x288 with 1 Axes>"
      ]
     },
     "metadata": {
      "needs_background": "light"
     },
     "output_type": "display_data"
    },
    {
     "data": {
      "text/plain": [
       "None"
      ]
     },
     "metadata": {},
     "output_type": "display_data"
    },
    {
     "data": {
      "image/png": "[encoded data removed]",
      "text/plain": [
       "<Figure size 432x288 with 1 Axes>"
      ]
     },
     "metadata": {
      "needs_background": "light"
     },
     "output_type": "display_data"
    },
    {
     "data": {
      "text/plain": [
       "None"
      ]
     },
     "metadata": {},
     "output_type": "display_data"
    },
    {
     "data": {
      "image/png": "[encoded data removed]",
      "text/plain": [
       "<Figure size 432x288 with 1 Axes>"
      ]
     },
     "metadata": {
      "needs_background": "light"
     },
     "output_type": "display_data"
    },
    {
     "data": {
      "text/plain": [
       "None"
      ]
     },
     "metadata": {},
     "output_type": "display_data"
    }
   ],
   "source": [
    "plt.hist(norm[0,:], bins='auto')\n",
    "plt.xlim(-25, 25)\n",
    "plt.grid()\n",
    "display(plt.show())\n",
    "\n",
    "plt.hist(a[0,:], bins='auto')\n",
    "plt.xlim(-25, 25)\n",
    "plt.grid()\n",
    "display(plt.show())\n",
    "\n",
    "plt.hist(b[0,:], bins='auto')\n",
    "plt.xlim(-25, 25)\n",
    "plt.grid()\n",
    "display(plt.show())"
   ]
  },
  {
   "cell_type": "code",
   "execution_count": null,
   "metadata": {},
   "outputs": [],
   "source": []
  }
 ],
 "metadata": {
  "kernelspec": {
   "display_name": "Python 3",
   "language": "python",
   "name": "python3"
  },
  "language_info": {
   "codemirror_mode": {
    "name": "ipython",
    "version": 3
   },
   "file_extension": ".py",
   "mimetype": "text/x-python",
   "name": "python",
   "nbconvert_exporter": "python",
   "pygments_lexer": "ipython3",
   "version": "3.7.4"
  }
 },
 "nbformat": 4,
 "nbformat_minor": 4
}
